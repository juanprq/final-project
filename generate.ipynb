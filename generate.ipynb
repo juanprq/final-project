{
 "cells": [
  {
   "cell_type": "markdown",
   "metadata": {},
   "source": [
    "# Loading the data..."
   ]
  },
  {
   "cell_type": "code",
   "execution_count": 102,
   "metadata": {},
   "outputs": [],
   "source": [
    "import pandas as pd\n",
    "import matplotlib.pyplot as plt\n",
    "import seaborn as sns"
   ]
  },
  {
   "cell_type": "code",
   "execution_count": 103,
   "metadata": {},
   "outputs": [
    {
     "name": "stdout",
     "output_type": "stream",
     "text": [
      "loaded file ./datasets/2014.csv\n",
      "loaded file ./datasets/2015.csv\n",
      "loaded file ./datasets/2016.csv\n",
      "loaded file ./datasets/2017.csv\n",
      "loaded file ./datasets/2018.csv\n",
      "Finish loading!\n"
     ]
    }
   ],
   "source": [
    "dataframes = {}\n",
    "years = [str(x) for x in range(2014, 2019)]\n",
    "\n",
    "for year in years:\n",
    "    path = f'./datasets/{year}.csv'\n",
    "    dataframes[year] =  pd.read_csv(path, sep = ';', encoding = 'cp1252', dtype = { 'Id_Cliente': str })\n",
    "    print(f'loaded file {path}')\n",
    "\n",
    "print('Finish loading!')"
   ]
  },
  {
   "cell_type": "code",
   "execution_count": 104,
   "metadata": {},
   "outputs": [
    {
     "data": {
      "text/plain": [
       "(3201181, 26)"
      ]
     },
     "execution_count": 104,
     "metadata": {},
     "output_type": "execute_result"
    }
   ],
   "source": [
    "snacks_df = pd.concat(list(dataframes.values()))\n",
    "\n",
    "snacks_df.shape"
   ]
  },
  {
   "cell_type": "code",
   "execution_count": 105,
   "metadata": {},
   "outputs": [
    {
     "name": "stdout",
     "output_type": "stream",
     "text": [
      "Finished the column rename!\n"
     ]
    }
   ],
   "source": [
    "column_mapping = {\n",
    "    'Region del Pais': 'country_region',\n",
    "    'Ciudad/Depto Oficina Venta': 'office_department_city',\n",
    "    'Desc_area': 'description',\n",
    "    'Nombre_area': 'area_name',\n",
    "    'ID Ciudad Bodega Despacho': 'warehouse_id',\n",
    "    'Ciudad Bodega Despacho': 'warehouse_city',\n",
    "    'Id Categoría': 'category_id',\n",
    "    'Categoria_': 'category_name',\n",
    "    'Id Marca': 'brand_id',\n",
    "    'Tipo Precio': 'price_type',\n",
    "    'Linea Prod': 'pruduction_line',\n",
    "    'Cod Item': 'product_id',\n",
    "    'Peso en gr': 'weight',\n",
    "    'PLANTA': 'plant',\n",
    "    'Id_Cliente': 'client_id',\n",
    "    'Nombre_Cliente': 'client_name',\n",
    "    'Nombre_sabor': 'flavor_name',\n",
    "    'Nombre PdV': 'point_of_sale_name',\n",
    "    'Distribuidor': 'distributor',\n",
    "    'Fecha ': 'date',\n",
    "    'Unds': 'units',\n",
    "    'Unds Devolución': 'devolution_units',\n",
    "    'Moneda': 'currency',\n",
    "    'Venta Dinero': 'sale_amount',\n",
    "    'Descuento': 'sale_discount',\n",
    "    'Devolución $': 'sale_devolution'\n",
    "}\n",
    "\n",
    "snacks_df = snacks_df.rename(columns = column_mapping)\n",
    "\n",
    "print('Finished the column rename!')"
   ]
  },
  {
   "cell_type": "code",
   "execution_count": 106,
   "metadata": {},
   "outputs": [],
   "source": [
    "snacks_df.to_csv('./datasets/snacks.csv', encoding = 'utf-8', index = False)"
   ]
  }
 ],
 "metadata": {
  "kernelspec": {
   "display_name": "Python 3",
   "language": "python",
   "name": "python3"
  },
  "language_info": {
   "codemirror_mode": {
    "name": "ipython",
    "version": 3
   },
   "file_extension": ".py",
   "mimetype": "text/x-python",
   "name": "python",
   "nbconvert_exporter": "python",
   "pygments_lexer": "ipython3",
   "version": "3.6.8"
  }
 },
 "nbformat": 4,
 "nbformat_minor": 4
}
