{
 "cells": [
  {
   "cell_type": "markdown",
   "metadata": {},
   "source": [
    "# Eploratory Analysis for the final project\n",
    "\n",
    "The purpose of this notebook is to make an exploratory analysis of the data for the final project, the idea is to find patterns and dicover information to complement a re-iterate over our defined questions in order to improve them and complement them."
   ]
  },
  {
   "cell_type": "code",
   "execution_count": 4,
   "metadata": {},
   "outputs": [],
   "source": [
    "import pandas as pd\n",
    "import matplotlib.pyplot as plt\n",
    "import seaborn as sns\n",
    "import numpy as np"
   ]
  },
  {
   "cell_type": "code",
   "execution_count": 5,
   "metadata": {},
   "outputs": [
    {
     "data": {
      "text/html": [
       "<div>\n",
       "<style scoped>\n",
       "    .dataframe tbody tr th:only-of-type {\n",
       "        vertical-align: middle;\n",
       "    }\n",
       "\n",
       "    .dataframe tbody tr th {\n",
       "        vertical-align: top;\n",
       "    }\n",
       "\n",
       "    .dataframe thead th {\n",
       "        text-align: right;\n",
       "    }\n",
       "</style>\n",
       "<table border=\"1\" class=\"dataframe\">\n",
       "  <thead>\n",
       "    <tr style=\"text-align: right;\">\n",
       "      <th></th>\n",
       "      <th>country_region</th>\n",
       "      <th>office_department_city</th>\n",
       "      <th>description</th>\n",
       "      <th>area_name</th>\n",
       "      <th>warehouse_id</th>\n",
       "      <th>warehouse_city</th>\n",
       "      <th>category_id</th>\n",
       "      <th>category_name</th>\n",
       "      <th>brand_id</th>\n",
       "      <th>price_type</th>\n",
       "      <th>...</th>\n",
       "      <th>client_name</th>\n",
       "      <th>point_of_sale_name</th>\n",
       "      <th>distributor</th>\n",
       "      <th>date</th>\n",
       "      <th>units</th>\n",
       "      <th>devolution_units</th>\n",
       "      <th>currency</th>\n",
       "      <th>sale_amount</th>\n",
       "      <th>sale_discount</th>\n",
       "      <th>sale_devolution</th>\n",
       "    </tr>\n",
       "  </thead>\n",
       "  <tbody>\n",
       "    <tr>\n",
       "      <th>0</th>\n",
       "      <td>Centro</td>\n",
       "      <td>Ibague</td>\n",
       "      <td>IBAGUE 1</td>\n",
       "      <td>SALADO</td>\n",
       "      <td>85228.0</td>\n",
       "      <td>IBAGUE</td>\n",
       "      <td>CAT1</td>\n",
       "      <td>Producto de Extrusion</td>\n",
       "      <td>M01</td>\n",
       "      <td>REGULAR</td>\n",
       "      <td>...</td>\n",
       "      <td>NaN</td>\n",
       "      <td>NaN</td>\n",
       "      <td>Tiendas</td>\n",
       "      <td>2014-04-01</td>\n",
       "      <td>39600</td>\n",
       "      <td>0</td>\n",
       "      <td>COP</td>\n",
       "      <td>493,529.00</td>\n",
       "      <td>-93,769.56</td>\n",
       "      <td>0</td>\n",
       "    </tr>\n",
       "    <tr>\n",
       "      <th>1</th>\n",
       "      <td>Sur</td>\n",
       "      <td>Cali</td>\n",
       "      <td>TULUA</td>\n",
       "      <td>EL PRINCIPE</td>\n",
       "      <td>85205.0</td>\n",
       "      <td>TULUA</td>\n",
       "      <td>CAT1</td>\n",
       "      <td>Producto de Extrusion</td>\n",
       "      <td>M01</td>\n",
       "      <td>OFERTADO</td>\n",
       "      <td>...</td>\n",
       "      <td>NaN</td>\n",
       "      <td>NaN</td>\n",
       "      <td>Tiendas</td>\n",
       "      <td>2014-04-01</td>\n",
       "      <td>324</td>\n",
       "      <td>0</td>\n",
       "      <td>COP</td>\n",
       "      <td>181,530.00</td>\n",
       "      <td>-32,675.40</td>\n",
       "      <td>0</td>\n",
       "    </tr>\n",
       "    <tr>\n",
       "      <th>2</th>\n",
       "      <td>Sur</td>\n",
       "      <td>Nariño</td>\n",
       "      <td>POPAYAN</td>\n",
       "      <td>MOTO CONQUISTA POPAYAN</td>\n",
       "      <td>85220.0</td>\n",
       "      <td>POPAYAN</td>\n",
       "      <td>CAT1</td>\n",
       "      <td>Producto de Extrusion</td>\n",
       "      <td>M01</td>\n",
       "      <td>OFERTADO</td>\n",
       "      <td>...</td>\n",
       "      <td>NaN</td>\n",
       "      <td>NaN</td>\n",
       "      <td>Tiendas</td>\n",
       "      <td>2014-04-01</td>\n",
       "      <td>36</td>\n",
       "      <td>0</td>\n",
       "      <td>COP</td>\n",
       "      <td>20,170.00</td>\n",
       "      <td>-4,437.40</td>\n",
       "      <td>0</td>\n",
       "    </tr>\n",
       "    <tr>\n",
       "      <th>3</th>\n",
       "      <td>Sur</td>\n",
       "      <td>Nariño</td>\n",
       "      <td>POPAYAN</td>\n",
       "      <td>MOTO CONQUISTA POPAYAN</td>\n",
       "      <td>85220.0</td>\n",
       "      <td>POPAYAN</td>\n",
       "      <td>CAT1</td>\n",
       "      <td>Producto de Extrusion</td>\n",
       "      <td>M01</td>\n",
       "      <td>REGULAR</td>\n",
       "      <td>...</td>\n",
       "      <td>NaN</td>\n",
       "      <td>NaN</td>\n",
       "      <td>Tiendas</td>\n",
       "      <td>2014-04-01</td>\n",
       "      <td>73200</td>\n",
       "      <td>0</td>\n",
       "      <td>COP</td>\n",
       "      <td>91,227.00</td>\n",
       "      <td>-20,069.98</td>\n",
       "      <td>0</td>\n",
       "    </tr>\n",
       "    <tr>\n",
       "      <th>4</th>\n",
       "      <td>Norte</td>\n",
       "      <td>Bucaramanga</td>\n",
       "      <td>FLORIDA</td>\n",
       "      <td>REPOSO</td>\n",
       "      <td>85230.0</td>\n",
       "      <td>BUCARAMANGA</td>\n",
       "      <td>CAT1</td>\n",
       "      <td>Producto de Extrusion</td>\n",
       "      <td>M01</td>\n",
       "      <td>OFERTADO</td>\n",
       "      <td>...</td>\n",
       "      <td>NaN</td>\n",
       "      <td>NaN</td>\n",
       "      <td>Tiendas</td>\n",
       "      <td>2014-04-01</td>\n",
       "      <td>3924</td>\n",
       "      <td>0</td>\n",
       "      <td>COP</td>\n",
       "      <td>2,198,533.00</td>\n",
       "      <td>-395,736.97</td>\n",
       "      <td>0</td>\n",
       "    </tr>\n",
       "  </tbody>\n",
       "</table>\n",
       "<p>5 rows × 26 columns</p>\n",
       "</div>"
      ],
      "text/plain": [
       "  country_region office_department_city description               area_name  \\\n",
       "0         Centro                 Ibague    IBAGUE 1                  SALADO   \n",
       "1            Sur                   Cali       TULUA             EL PRINCIPE   \n",
       "2            Sur                 Nariño     POPAYAN  MOTO CONQUISTA POPAYAN   \n",
       "3            Sur                 Nariño     POPAYAN  MOTO CONQUISTA POPAYAN   \n",
       "4          Norte            Bucaramanga     FLORIDA                  REPOSO   \n",
       "\n",
       "   warehouse_id warehouse_city category_id          category_name brand_id  \\\n",
       "0       85228.0         IBAGUE        CAT1  Producto de Extrusion      M01   \n",
       "1       85205.0          TULUA        CAT1  Producto de Extrusion      M01   \n",
       "2       85220.0        POPAYAN        CAT1  Producto de Extrusion      M01   \n",
       "3       85220.0        POPAYAN        CAT1  Producto de Extrusion      M01   \n",
       "4       85230.0    BUCARAMANGA        CAT1  Producto de Extrusion      M01   \n",
       "\n",
       "  price_type       ...        client_name  point_of_sale_name  distributor  \\\n",
       "0    REGULAR       ...                NaN                 NaN      Tiendas   \n",
       "1   OFERTADO       ...                NaN                 NaN      Tiendas   \n",
       "2   OFERTADO       ...                NaN                 NaN      Tiendas   \n",
       "3    REGULAR       ...                NaN                 NaN      Tiendas   \n",
       "4   OFERTADO       ...                NaN                 NaN      Tiendas   \n",
       "\n",
       "        date  units devolution_units currency   sale_amount sale_discount  \\\n",
       "0 2014-04-01  39600                0      COP    493,529.00    -93,769.56   \n",
       "1 2014-04-01    324                0      COP    181,530.00    -32,675.40   \n",
       "2 2014-04-01     36                0      COP     20,170.00     -4,437.40   \n",
       "3 2014-04-01  73200                0      COP     91,227.00    -20,069.98   \n",
       "4 2014-04-01   3924                0      COP  2,198,533.00   -395,736.97   \n",
       "\n",
       "  sale_devolution  \n",
       "0               0  \n",
       "1               0  \n",
       "2               0  \n",
       "3               0  \n",
       "4               0  \n",
       "\n",
       "[5 rows x 26 columns]"
      ]
     },
     "execution_count": 5,
     "metadata": {},
     "output_type": "execute_result"
    }
   ],
   "source": [
    "snacks_df = pd.read_csv('./datasets/snacks.csv', dtype = { 'client_id': str })\n",
    "snacks_df['date'] = pd.to_datetime(snacks_df['date'], format = '%d/%m/%Y')\n",
    "\n",
    "snacks_df.head()"
   ]
  },
  {
   "cell_type": "markdown",
   "metadata": {},
   "source": [
    "**How many regions we have?**"
   ]
  },
  {
   "cell_type": "code",
   "execution_count": 6,
   "metadata": {},
   "outputs": [
    {
     "data": {
      "text/plain": [
       "array([' Centro', ' Sur', ' Norte', 'Ventas al Exterior', 'Norte',\n",
       "       'Centro', nan, 'Sur', 'Ventas Miscelaneas'], dtype=object)"
      ]
     },
     "execution_count": 6,
     "metadata": {},
     "output_type": "execute_result"
    }
   ],
   "source": [
    "snacks_df['country_region'].unique()"
   ]
  },
  {
   "cell_type": "markdown",
   "metadata": {},
   "source": [
    "**Trim the country region data**"
   ]
  },
  {
   "cell_type": "code",
   "execution_count": 7,
   "metadata": {},
   "outputs": [
    {
     "data": {
      "text/plain": [
       "array(['Centro', 'Sur', 'Norte', 'Ventas al Exterior', nan,\n",
       "       'Ventas Miscelaneas'], dtype=object)"
      ]
     },
     "execution_count": 7,
     "metadata": {},
     "output_type": "execute_result"
    }
   ],
   "source": [
    "def transform(x):\n",
    "    if (isinstance(x, str)):\n",
    "        return x.strip()\n",
    "    else:\n",
    "        return x\n",
    "\n",
    "snacks_df['country_region'] = snacks_df['country_region'].map(transform)\n",
    "snacks_df['country_region'].unique()"
   ]
  },
  {
   "cell_type": "markdown",
   "metadata": {},
   "source": [
    "**How many sales with nan are?**\n",
    "**Why we don't have this data**"
   ]
  },
  {
   "cell_type": "code",
   "execution_count": 8,
   "metadata": {},
   "outputs": [
    {
     "data": {
      "text/plain": [
       "210"
      ]
     },
     "execution_count": 8,
     "metadata": {},
     "output_type": "execute_result"
    }
   ],
   "source": [
    "snacks_df['country_region'].isna().sum()"
   ]
  },
  {
   "cell_type": "code",
   "execution_count": 9,
   "metadata": {},
   "outputs": [
    {
     "data": {
      "text/plain": [
       "459823"
      ]
     },
     "execution_count": 9,
     "metadata": {},
     "output_type": "execute_result"
    }
   ],
   "source": [
    "snacks_df[snacks_df['country_region'].isna()]['units'].sum()"
   ]
  },
  {
   "cell_type": "markdown",
   "metadata": {},
   "source": [
    "**How many sales records are from every region?**"
   ]
  },
  {
   "cell_type": "code",
   "execution_count": 10,
   "metadata": {},
   "outputs": [
    {
     "data": {
      "text/html": [
       "<div>\n",
       "<style scoped>\n",
       "    .dataframe tbody tr th:only-of-type {\n",
       "        vertical-align: middle;\n",
       "    }\n",
       "\n",
       "    .dataframe tbody tr th {\n",
       "        vertical-align: top;\n",
       "    }\n",
       "\n",
       "    .dataframe thead th {\n",
       "        text-align: right;\n",
       "    }\n",
       "</style>\n",
       "<table border=\"1\" class=\"dataframe\">\n",
       "  <thead>\n",
       "    <tr style=\"text-align: right;\">\n",
       "      <th></th>\n",
       "      <th>country_region</th>\n",
       "      <th>count</th>\n",
       "    </tr>\n",
       "  </thead>\n",
       "  <tbody>\n",
       "    <tr>\n",
       "      <th>0</th>\n",
       "      <td>Centro</td>\n",
       "      <td>906192</td>\n",
       "    </tr>\n",
       "    <tr>\n",
       "      <th>1</th>\n",
       "      <td>Norte</td>\n",
       "      <td>1079789</td>\n",
       "    </tr>\n",
       "    <tr>\n",
       "      <th>2</th>\n",
       "      <td>Sur</td>\n",
       "      <td>1213737</td>\n",
       "    </tr>\n",
       "    <tr>\n",
       "      <th>3</th>\n",
       "      <td>Ventas Miscelaneas</td>\n",
       "      <td>6</td>\n",
       "    </tr>\n",
       "    <tr>\n",
       "      <th>4</th>\n",
       "      <td>Ventas al Exterior</td>\n",
       "      <td>1247</td>\n",
       "    </tr>\n",
       "  </tbody>\n",
       "</table>\n",
       "</div>"
      ],
      "text/plain": [
       "       country_region    count\n",
       "0              Centro   906192\n",
       "1               Norte  1079789\n",
       "2                 Sur  1213737\n",
       "3  Ventas Miscelaneas        6\n",
       "4  Ventas al Exterior     1247"
      ]
     },
     "execution_count": 10,
     "metadata": {},
     "output_type": "execute_result"
    }
   ],
   "source": [
    "snacks_df.groupby('country_region')['date'].count().reset_index(name = 'count')"
   ]
  },
  {
   "cell_type": "markdown",
   "metadata": {},
   "source": [
    "**How many sales unit records are from every region?**"
   ]
  },
  {
   "cell_type": "code",
   "execution_count": 11,
   "metadata": {},
   "outputs": [
    {
     "data": {
      "text/html": [
       "<div>\n",
       "<style scoped>\n",
       "    .dataframe tbody tr th:only-of-type {\n",
       "        vertical-align: middle;\n",
       "    }\n",
       "\n",
       "    .dataframe tbody tr th {\n",
       "        vertical-align: top;\n",
       "    }\n",
       "\n",
       "    .dataframe thead th {\n",
       "        text-align: right;\n",
       "    }\n",
       "</style>\n",
       "<table border=\"1\" class=\"dataframe\">\n",
       "  <thead>\n",
       "    <tr style=\"text-align: right;\">\n",
       "      <th></th>\n",
       "      <th>country_region</th>\n",
       "      <th>units</th>\n",
       "    </tr>\n",
       "  </thead>\n",
       "  <tbody>\n",
       "    <tr>\n",
       "      <th>0</th>\n",
       "      <td>Centro</td>\n",
       "      <td>6999182833</td>\n",
       "    </tr>\n",
       "    <tr>\n",
       "      <th>1</th>\n",
       "      <td>Norte</td>\n",
       "      <td>9080664266</td>\n",
       "    </tr>\n",
       "    <tr>\n",
       "      <th>2</th>\n",
       "      <td>Sur</td>\n",
       "      <td>11599349149</td>\n",
       "    </tr>\n",
       "    <tr>\n",
       "      <th>3</th>\n",
       "      <td>Ventas Miscelaneas</td>\n",
       "      <td>164580</td>\n",
       "    </tr>\n",
       "    <tr>\n",
       "      <th>4</th>\n",
       "      <td>Ventas al Exterior</td>\n",
       "      <td>148269657</td>\n",
       "    </tr>\n",
       "  </tbody>\n",
       "</table>\n",
       "</div>"
      ],
      "text/plain": [
       "       country_region        units\n",
       "0              Centro   6999182833\n",
       "1               Norte   9080664266\n",
       "2                 Sur  11599349149\n",
       "3  Ventas Miscelaneas       164580\n",
       "4  Ventas al Exterior    148269657"
      ]
     },
     "execution_count": 11,
     "metadata": {},
     "output_type": "execute_result"
    }
   ],
   "source": [
    "snacks_df.groupby('country_region')['units'].sum().reset_index()"
   ]
  },
  {
   "cell_type": "markdown",
   "metadata": {},
   "source": [
    "**How many cities and departments we have?**"
   ]
  },
  {
   "cell_type": "code",
   "execution_count": 12,
   "metadata": {},
   "outputs": [
    {
     "data": {
      "text/plain": [
       "array(['Ibague', 'Cali', 'Nariño', 'Bucaramanga', 'Barranquilla',\n",
       "       'MedellinA', 'BogotaB', 'Pereira', 'Villavicencio', 'Cartagena',\n",
       "       'Monteria', 'Cucuta', 'Valledupar', 'BogotaA', 'MedellinB',\n",
       "       'Panama', 'Chile', 'Puerto Rico', nan, 'Costa Rica',\n",
       "       'Estados Unidos', 'Republica Dominicana', 'Guatemala', 'No Aplica',\n",
       "       'Peru'], dtype=object)"
      ]
     },
     "execution_count": 12,
     "metadata": {},
     "output_type": "execute_result"
    }
   ],
   "source": [
    "snacks_df['office_department_city'].unique()"
   ]
  },
  {
   "cell_type": "markdown",
   "metadata": {},
   "source": [
    "**How many warehouse cities we have?**"
   ]
  },
  {
   "cell_type": "code",
   "execution_count": 13,
   "metadata": {},
   "outputs": [
    {
     "data": {
      "text/plain": [
       "array(['IBAGUE', 'TULUA', 'POPAYAN', 'BUCARAMANGA', 'BARRANQUILLA', 'SUR',\n",
       "       'NORTE', 'SANTA MARTA', 'AGUACHICA', 'PEREIRA', 'BUGA',\n",
       "       'VILLAVICENCIO', 'CARTAGENA', 'SINCELEJO', 'CUCUTA', 'VALLEDUPAR',\n",
       "       'ARMENIA', 'MONTERIA', 'NEIVA', 'ESPECIALES', 'TUNJA', 'SUBA',\n",
       "       'BARRANCABERMEJA', 'NAL', 'PASTO', 'ZIPAQUIRA', 'PALMIRA',\n",
       "       'NARIÑO', 'MANIZALES', 'BOGOTA', 'VIRTUAL', 'SAN ANDRES',\n",
       "       'PRINCIPAL', 'ITAGUI', nan, 'ANDRÉS'], dtype=object)"
      ]
     },
     "execution_count": 13,
     "metadata": {},
     "output_type": "execute_result"
    }
   ],
   "source": [
    "snacks_df['warehouse_city'].unique()"
   ]
  },
  {
   "cell_type": "markdown",
   "metadata": {},
   "source": [
    "**How many categories we have?**"
   ]
  },
  {
   "cell_type": "code",
   "execution_count": 14,
   "metadata": {},
   "outputs": [
    {
     "data": {
      "text/plain": [
       "array(['Producto de Extrusion', 'Producto en Frituras',\n",
       "       'Producto a base de Platano', 'Combinaciones Individuales',\n",
       "       'Producto de Horno', 'Platanos a base de Harina', 'Otros',\n",
       "       'Multiproductos', 'Producto a base de Tuberculo', nan],\n",
       "      dtype=object)"
      ]
     },
     "execution_count": 14,
     "metadata": {},
     "output_type": "execute_result"
    }
   ],
   "source": [
    "snacks_df['category_name'].unique()"
   ]
  },
  {
   "cell_type": "markdown",
   "metadata": {},
   "source": [
    "**How many brands do we have?**"
   ]
  },
  {
   "cell_type": "code",
   "execution_count": 15,
   "metadata": {},
   "outputs": [
    {
     "data": {
      "text/plain": [
       "array(['M01', 'M02', 'M03', 'M04', 'M05', 'M06', 'M07', 'M08', 'M09',\n",
       "       'M10', 'M11', 'M12', 'M13', 'M14', 'M15', 'M16', 'M17', 'M18',\n",
       "       'M19', 'M20', 'M21', 'M22', 'M23', 'M24', 'M25', 'M26', 'M27',\n",
       "       'M28', 'Otras'], dtype=object)"
      ]
     },
     "execution_count": 15,
     "metadata": {},
     "output_type": "execute_result"
    }
   ],
   "source": [
    "snacks_df['brand_id'].unique()"
   ]
  },
  {
   "cell_type": "markdown",
   "metadata": {},
   "source": [
    "**How many clients we have?**"
   ]
  },
  {
   "cell_type": "code",
   "execution_count": 16,
   "metadata": {},
   "outputs": [
    {
     "data": {
      "text/plain": [
       "array([nan, 'SUPERTIENDAS Y DROGUERIAS OLIMPICA S.A.',\n",
       "       'CENCOSUD COLOMBIA S.A.', 'ALMACENES EXITO S.A.',\n",
       "       'ALMACENES LA 14 S.A.', 'CADENA COMERCIAL OXXO COLOMBIA S A S',\n",
       "       'MAKRO SUPERMAYORISTA S.A.S', 'COLOMBIANA DE COMERCIO S.A.',\n",
       "       'CAJA COLOMBIANA DE SUBSIDIO FAMILIAR COLSUBSIDIO',\n",
       "       'PRICESMART COLOMBIA S.A.S.', 'INVERCOMER DEL CARIBE SAS'],\n",
       "      dtype=object)"
      ]
     },
     "execution_count": 16,
     "metadata": {},
     "output_type": "execute_result"
    }
   ],
   "source": [
    "snacks_df['client_name'].unique()"
   ]
  },
  {
   "cell_type": "markdown",
   "metadata": {},
   "source": [
    "**How many distributors do we have?**"
   ]
  },
  {
   "cell_type": "code",
   "execution_count": 54,
   "metadata": {},
   "outputs": [
    {
     "data": {
      "text/plain": [
       "array(['Tiendas', 'Superficies Menores', 'Negocios Esp',\n",
       "       'Grandes Superficies', 'Clientes Mayoristas', 'Venta en Calle',\n",
       "       'Clientes Droguerias', 'Cadenas Medianas', 'Clientes Exterior',\n",
       "       'Otros', nan], dtype=object)"
      ]
     },
     "execution_count": 54,
     "metadata": {},
     "output_type": "execute_result"
    }
   ],
   "source": [
    "snacks_df['distributor'].unique()"
   ]
  },
  {
   "cell_type": "markdown",
   "metadata": {},
   "source": [
    "**How many sales per distributor type**"
   ]
  },
  {
   "cell_type": "code",
   "execution_count": 59,
   "metadata": {},
   "outputs": [
    {
     "data": {
      "text/html": [
       "<div>\n",
       "<style scoped>\n",
       "    .dataframe tbody tr th:only-of-type {\n",
       "        vertical-align: middle;\n",
       "    }\n",
       "\n",
       "    .dataframe tbody tr th {\n",
       "        vertical-align: top;\n",
       "    }\n",
       "\n",
       "    .dataframe thead th {\n",
       "        text-align: right;\n",
       "    }\n",
       "</style>\n",
       "<table border=\"1\" class=\"dataframe\">\n",
       "  <thead>\n",
       "    <tr style=\"text-align: right;\">\n",
       "      <th></th>\n",
       "      <th>distributor</th>\n",
       "      <th>units</th>\n",
       "    </tr>\n",
       "  </thead>\n",
       "  <tbody>\n",
       "    <tr>\n",
       "      <th>6</th>\n",
       "      <td>Otros</td>\n",
       "      <td>986409</td>\n",
       "    </tr>\n",
       "    <tr>\n",
       "      <th>0</th>\n",
       "      <td>Cadenas Medianas</td>\n",
       "      <td>70398822</td>\n",
       "    </tr>\n",
       "    <tr>\n",
       "      <th>1</th>\n",
       "      <td>Clientes Droguerias</td>\n",
       "      <td>71898074</td>\n",
       "    </tr>\n",
       "    <tr>\n",
       "      <th>2</th>\n",
       "      <td>Clientes Exterior</td>\n",
       "      <td>148271601</td>\n",
       "    </tr>\n",
       "    <tr>\n",
       "      <th>9</th>\n",
       "      <td>Venta en Calle</td>\n",
       "      <td>383347800</td>\n",
       "    </tr>\n",
       "    <tr>\n",
       "      <th>5</th>\n",
       "      <td>Negocios Esp</td>\n",
       "      <td>888935968</td>\n",
       "    </tr>\n",
       "    <tr>\n",
       "      <th>7</th>\n",
       "      <td>Superficies Menores</td>\n",
       "      <td>1141039311</td>\n",
       "    </tr>\n",
       "    <tr>\n",
       "      <th>3</th>\n",
       "      <td>Clientes Mayoristas</td>\n",
       "      <td>1234115251</td>\n",
       "    </tr>\n",
       "    <tr>\n",
       "      <th>4</th>\n",
       "      <td>Grandes Superficies</td>\n",
       "      <td>3230488265</td>\n",
       "    </tr>\n",
       "    <tr>\n",
       "      <th>8</th>\n",
       "      <td>Tiendas</td>\n",
       "      <td>20658412679</td>\n",
       "    </tr>\n",
       "  </tbody>\n",
       "</table>\n",
       "</div>"
      ],
      "text/plain": [
       "           distributor        units\n",
       "6                Otros       986409\n",
       "0     Cadenas Medianas     70398822\n",
       "1  Clientes Droguerias     71898074\n",
       "2    Clientes Exterior    148271601\n",
       "9       Venta en Calle    383347800\n",
       "5         Negocios Esp    888935968\n",
       "7  Superficies Menores   1141039311\n",
       "3  Clientes Mayoristas   1234115251\n",
       "4  Grandes Superficies   3230488265\n",
       "8              Tiendas  20658412679"
      ]
     },
     "execution_count": 59,
     "metadata": {},
     "output_type": "execute_result"
    }
   ],
   "source": [
    "snacks_df.groupby('distributor')['units'].sum().reset_index().sort_values('units')"
   ]
  },
  {
   "cell_type": "markdown",
   "metadata": {},
   "source": [
    "**How the sales quantity behave through time?**"
   ]
  },
  {
   "cell_type": "code",
   "execution_count": 17,
   "metadata": {},
   "outputs": [],
   "source": [
    "snacks_df['year'] = snacks_df['date'].map(lambda x: x.year)"
   ]
  },
  {
   "cell_type": "code",
   "execution_count": 18,
   "metadata": {},
   "outputs": [],
   "source": [
    "snacks_df['month'] = snacks_df['date'].map(lambda x: x.month)"
   ]
  },
  {
   "cell_type": "code",
   "execution_count": 19,
   "metadata": {},
   "outputs": [],
   "source": [
    "data = snacks_df.groupby(['year', 'month'])['units'].sum().reset_index()"
   ]
  },
  {
   "cell_type": "code",
   "execution_count": 20,
   "metadata": {},
   "outputs": [
    {
     "data": {
      "text/plain": [
       "<matplotlib.axes._subplots.AxesSubplot at 0x1309ce7b8>"
      ]
     },
     "execution_count": 20,
     "metadata": {},
     "output_type": "execute_result"
    },
    {
     "data": {
      "image/png": "[encoded data removed]",
      "text/plain": [
       "<Figure size 1152x720 with 1 Axes>"
      ]
     },
     "metadata": {
      "needs_background": "light"
     },
     "output_type": "display_data"
    }
   ],
   "source": [
    "plt.figure(figsize = (16, 10))\n",
    "sns.barplot(x = 'month', y = 'units', data = data[data['year'] == 2017])"
   ]
  },
  {
   "cell_type": "markdown",
   "metadata": {},
   "source": [
    "**Distribution of sales units**"
   ]
  },
  {
   "cell_type": "code",
   "execution_count": 21,
   "metadata": {},
   "outputs": [
    {
     "name": "stderr",
     "output_type": "stream",
     "text": [
      "/Users/juanprq/.local/lib/python3.7/site-packages/scipy/stats/stats.py:1713: FutureWarning: Using a non-tuple sequence for multidimensional indexing is deprecated; use `arr[tuple(seq)]` instead of `arr[seq]`. In the future this will be interpreted as an array index, `arr[np.array(seq)]`, which will result either in an error or a different result.\n",
      "  return np.add.reduce(sorted[indexer] * weights, axis=axis) / sumval\n"
     ]
    },
    {
     "data": {
      "text/plain": [
       "<matplotlib.axes._subplots.AxesSubplot at 0x11666d748>"
      ]
     },
     "execution_count": 21,
     "metadata": {},
     "output_type": "execute_result"
    },
    {
     "data": {
      "image/png": "[encoded data removed]",
      "text/plain": [
       "<Figure size 1152x720 with 1 Axes>"
      ]
     },
     "metadata": {
      "needs_background": "light"
     },
     "output_type": "display_data"
    }
   ],
   "source": [
    "plt.figure(figsize = (16, 10))\n",
    "sns.distplot(snacks_df['units'])"
   ]
  },
  {
   "cell_type": "code",
   "execution_count": 23,
   "metadata": {
    "scrolled": false
   },
   "outputs": [
    {
     "name": "stderr",
     "output_type": "stream",
     "text": [
      "/Users/juanprq/anaconda3/lib/python3.7/site-packages/ipykernel_launcher.py:1: UserWarning: Boolean Series key will be reindexed to match DataFrame index.\n",
      "  \"\"\"Entry point for launching an IPython kernel.\n"
     ]
    },
    {
     "data": {
      "text/plain": [
       "<matplotlib.axes._subplots.AxesSubplot at 0x141261390>"
      ]
     },
     "execution_count": 23,
     "metadata": {},
     "output_type": "execute_result"
    },
    {
     "data": {
      "image/png": "[encoded data removed]",
      "text/plain": [
       "<Figure size 1152x720 with 1 Axes>"
      ]
     },
     "metadata": {
      "needs_background": "light"
     },
     "output_type": "display_data"
    }
   ],
   "source": [
    "x = snacks_df[snacks_df['country_region'].notna()][snacks_df['country_region'] != 'Ventas al Exterior']['units']\n",
    "\n",
    "plt.figure(figsize = (16, 10))\n",
    "sns.distplot(x)"
   ]
  },
  {
   "cell_type": "code",
   "execution_count": 49,
   "metadata": {},
   "outputs": [
    {
     "data": {
      "text/plain": [
       "<matplotlib.axes._subplots.AxesSubplot at 0x1381335f8>"
      ]
     },
     "execution_count": 49,
     "metadata": {},
     "output_type": "execute_result"
    },
    {
     "data": {
      "image/png": "[encoded data removed]",
      "text/plain": [
       "<Figure size 1152x720 with 1 Axes>"
      ]
     },
     "metadata": {
      "needs_background": "light"
     },
     "output_type": "display_data"
    }
   ],
   "source": [
    "plt.figure(figsize = (16, 10))\n",
    "sns.boxplot(x = 'year', y = 'units', data = snacks_df)"
   ]
  },
  {
   "cell_type": "code",
   "execution_count": 37,
   "metadata": {},
   "outputs": [
    {
     "name": "stderr",
     "output_type": "stream",
     "text": [
      "/Users/juanprq/anaconda3/lib/python3.7/site-packages/ipykernel_launcher.py:1: UserWarning: Boolean Series key will be reindexed to match DataFrame index.\n",
      "  \"\"\"Entry point for launching an IPython kernel.\n"
     ]
    },
    {
     "data": {
      "text/plain": [
       "<matplotlib.axes._subplots.AxesSubplot at 0x12dba2b38>"
      ]
     },
     "execution_count": 37,
     "metadata": {},
     "output_type": "execute_result"
    },
    {
     "data": {
      "image/png": "[encoded data removed]",
      "text/plain": [
       "<Figure size 1152x720 with 1 Axes>"
      ]
     },
     "metadata": {
      "needs_background": "light"
     },
     "output_type": "display_data"
    }
   ],
   "source": [
    "test = snacks_df[snacks_df['country_region'].notna()][snacks_df['country_region'] == 'NI orte'][snacks_df['year'] == 2015]\n",
    "\n",
    "plt.figure(figsize = (16, 10))\n",
    "sns.boxplot(x = 'category_name', y = 'units', data = test)"
   ]
  },
  {
   "cell_type": "markdown",
   "metadata": {},
   "source": [
    "Trying an approach that deals with outliers"
   ]
  },
  {
   "cell_type": "code",
   "execution_count": 46,
   "metadata": {},
   "outputs": [
    {
     "name": "stderr",
     "output_type": "stream",
     "text": [
      "/Users/juanprq/anaconda3/lib/python3.7/site-packages/ipykernel_launcher.py:2: UserWarning: Boolean Series key will be reindexed to match DataFrame index.\n",
      "  \n"
     ]
    },
    {
     "data": {
      "text/plain": [
       "<matplotlib.axes._subplots.AxesSubplot at 0x12edf9d68>"
      ]
     },
     "execution_count": 46,
     "metadata": {},
     "output_type": "execute_result"
    },
    {
     "data": {
      "image/png": "[encoded data removed]",
      "text/plain": [
       "<Figure size 1152x720 with 1 Axes>"
      ]
     },
     "metadata": {
      "needs_background": "light"
     },
     "output_type": "display_data"
    }
   ],
   "source": [
    "# Snacks from the north in 2015\n",
    "x = snacks_df[snacks_df['country_region'] == 'Norte'][snacks_df['year'] == 2015]\n",
    "\n",
    "Q1 = x['units'].quantile(0.25)\n",
    "Q3 = x['units'].quantile(0.75)\n",
    "IQR = Q3 - Q1\n",
    "\n",
    "filtered = x.query('(@Q1 - 1.5 * @IQR) <= units <= (@Q3 + 1.5 * @IQR)')\n",
    "plt.figure(figsize = (16, 10))\n",
    "sns.distplot(filtered['units'])"
   ]
  },
  {
   "cell_type": "markdown",
   "metadata": {},
   "source": [
    "**There are any records with 0 of units?**"
   ]
  },
  {
   "cell_type": "code",
   "execution_count": 50,
   "metadata": {},
   "outputs": [
    {
     "data": {
      "text/html": [
       "<div>\n",
       "<style scoped>\n",
       "    .dataframe tbody tr th:only-of-type {\n",
       "        vertical-align: middle;\n",
       "    }\n",
       "\n",
       "    .dataframe tbody tr th {\n",
       "        vertical-align: top;\n",
       "    }\n",
       "\n",
       "    .dataframe thead th {\n",
       "        text-align: right;\n",
       "    }\n",
       "</style>\n",
       "<table border=\"1\" class=\"dataframe\">\n",
       "  <thead>\n",
       "    <tr style=\"text-align: right;\">\n",
       "      <th></th>\n",
       "      <th>country_region</th>\n",
       "      <th>office_department_city</th>\n",
       "      <th>description</th>\n",
       "      <th>area_name</th>\n",
       "      <th>warehouse_id</th>\n",
       "      <th>warehouse_city</th>\n",
       "      <th>category_id</th>\n",
       "      <th>category_name</th>\n",
       "      <th>brand_id</th>\n",
       "      <th>price_type</th>\n",
       "      <th>...</th>\n",
       "      <th>distributor</th>\n",
       "      <th>date</th>\n",
       "      <th>units</th>\n",
       "      <th>devolution_units</th>\n",
       "      <th>currency</th>\n",
       "      <th>sale_amount</th>\n",
       "      <th>sale_discount</th>\n",
       "      <th>sale_devolution</th>\n",
       "      <th>year</th>\n",
       "      <th>month</th>\n",
       "    </tr>\n",
       "  </thead>\n",
       "  <tbody>\n",
       "    <tr>\n",
       "      <th>162</th>\n",
       "      <td>Sur</td>\n",
       "      <td>Cali</td>\n",
       "      <td>AUTOSERVICIOS CALI</td>\n",
       "      <td>AUTOSERVICIOS CALI</td>\n",
       "      <td>85201.0</td>\n",
       "      <td>NORTE</td>\n",
       "      <td>CAT1</td>\n",
       "      <td>Producto de Extrusion</td>\n",
       "      <td>M01</td>\n",
       "      <td>OFERTADO</td>\n",
       "      <td>...</td>\n",
       "      <td>Grandes Superficies</td>\n",
       "      <td>2014-04-01</td>\n",
       "      <td>0</td>\n",
       "      <td>108</td>\n",
       "      <td>COP</td>\n",
       "      <td>0</td>\n",
       "      <td>0</td>\n",
       "      <td>-608</td>\n",
       "      <td>2014</td>\n",
       "      <td>4</td>\n",
       "    </tr>\n",
       "    <tr>\n",
       "      <th>342</th>\n",
       "      <td>Sur</td>\n",
       "      <td>Pereira</td>\n",
       "      <td>INSTITUCIONAL PEREIRA</td>\n",
       "      <td>INSTITUCIONAL PEREIRA</td>\n",
       "      <td>85225.0</td>\n",
       "      <td>PEREIRA</td>\n",
       "      <td>CAT1</td>\n",
       "      <td>Producto de Extrusion</td>\n",
       "      <td>M01</td>\n",
       "      <td>REGULAR</td>\n",
       "      <td>...</td>\n",
       "      <td>Superficies Menores</td>\n",
       "      <td>2014-04-01</td>\n",
       "      <td>0</td>\n",
       "      <td>216</td>\n",
       "      <td>COP</td>\n",
       "      <td>0</td>\n",
       "      <td>0</td>\n",
       "      <td>-1,286.00</td>\n",
       "      <td>2014</td>\n",
       "      <td>4</td>\n",
       "    </tr>\n",
       "    <tr>\n",
       "      <th>356</th>\n",
       "      <td>Norte</td>\n",
       "      <td>Bucaramanga</td>\n",
       "      <td>AUTOSERVICIOS BUCARAMANGA</td>\n",
       "      <td>AUTOSERVICIOS BUCARAMANGA</td>\n",
       "      <td>85230.0</td>\n",
       "      <td>BUCARAMANGA</td>\n",
       "      <td>CAT1</td>\n",
       "      <td>Producto de Extrusion</td>\n",
       "      <td>M01</td>\n",
       "      <td>REGULAR</td>\n",
       "      <td>...</td>\n",
       "      <td>Superficies Menores</td>\n",
       "      <td>2014-04-01</td>\n",
       "      <td>0</td>\n",
       "      <td>108</td>\n",
       "      <td>COP</td>\n",
       "      <td>0</td>\n",
       "      <td>0</td>\n",
       "      <td>-612</td>\n",
       "      <td>2014</td>\n",
       "      <td>4</td>\n",
       "    </tr>\n",
       "    <tr>\n",
       "      <th>386</th>\n",
       "      <td>Centro</td>\n",
       "      <td>Villavicencio</td>\n",
       "      <td>AUTOSERVICIOS VILLAVICENCIO</td>\n",
       "      <td>AUTOSERVICIOS VILLAVICENCIO</td>\n",
       "      <td>85211.0</td>\n",
       "      <td>VILLAVICENCIO</td>\n",
       "      <td>CAT1</td>\n",
       "      <td>Producto de Extrusion</td>\n",
       "      <td>M01</td>\n",
       "      <td>REGULAR</td>\n",
       "      <td>...</td>\n",
       "      <td>Grandes Superficies</td>\n",
       "      <td>2014-04-01</td>\n",
       "      <td>0</td>\n",
       "      <td>2160</td>\n",
       "      <td>COP</td>\n",
       "      <td>0</td>\n",
       "      <td>0</td>\n",
       "      <td>-40,608.00</td>\n",
       "      <td>2014</td>\n",
       "      <td>4</td>\n",
       "    </tr>\n",
       "    <tr>\n",
       "      <th>397</th>\n",
       "      <td>Sur</td>\n",
       "      <td>Cali</td>\n",
       "      <td>AUTOSERVICIOS CALI</td>\n",
       "      <td>AUTOSERVICIOS CALI</td>\n",
       "      <td>85201.0</td>\n",
       "      <td>NORTE</td>\n",
       "      <td>CAT1</td>\n",
       "      <td>Producto de Extrusion</td>\n",
       "      <td>M01</td>\n",
       "      <td>REGULAR</td>\n",
       "      <td>...</td>\n",
       "      <td>Superficies Menores</td>\n",
       "      <td>2014-04-01</td>\n",
       "      <td>0</td>\n",
       "      <td>180</td>\n",
       "      <td>COP</td>\n",
       "      <td>0</td>\n",
       "      <td>0</td>\n",
       "      <td>-11,574.00</td>\n",
       "      <td>2014</td>\n",
       "      <td>4</td>\n",
       "    </tr>\n",
       "  </tbody>\n",
       "</table>\n",
       "<p>5 rows × 28 columns</p>\n",
       "</div>"
      ],
      "text/plain": [
       "    country_region office_department_city                  description  \\\n",
       "162            Sur                   Cali           AUTOSERVICIOS CALI   \n",
       "342            Sur                Pereira        INSTITUCIONAL PEREIRA   \n",
       "356          Norte            Bucaramanga    AUTOSERVICIOS BUCARAMANGA   \n",
       "386         Centro          Villavicencio  AUTOSERVICIOS VILLAVICENCIO   \n",
       "397            Sur                   Cali           AUTOSERVICIOS CALI   \n",
       "\n",
       "                       area_name  warehouse_id warehouse_city category_id  \\\n",
       "162           AUTOSERVICIOS CALI       85201.0          NORTE        CAT1   \n",
       "342        INSTITUCIONAL PEREIRA       85225.0        PEREIRA        CAT1   \n",
       "356    AUTOSERVICIOS BUCARAMANGA       85230.0    BUCARAMANGA        CAT1   \n",
       "386  AUTOSERVICIOS VILLAVICENCIO       85211.0  VILLAVICENCIO        CAT1   \n",
       "397           AUTOSERVICIOS CALI       85201.0          NORTE        CAT1   \n",
       "\n",
       "             category_name brand_id price_type  ...           distributor  \\\n",
       "162  Producto de Extrusion      M01   OFERTADO  ...   Grandes Superficies   \n",
       "342  Producto de Extrusion      M01    REGULAR  ...   Superficies Menores   \n",
       "356  Producto de Extrusion      M01    REGULAR  ...   Superficies Menores   \n",
       "386  Producto de Extrusion      M01    REGULAR  ...   Grandes Superficies   \n",
       "397  Producto de Extrusion      M01    REGULAR  ...   Superficies Menores   \n",
       "\n",
       "          date  units devolution_units currency sale_amount sale_discount  \\\n",
       "162 2014-04-01      0              108      COP           0             0   \n",
       "342 2014-04-01      0              216      COP           0             0   \n",
       "356 2014-04-01      0              108      COP           0             0   \n",
       "386 2014-04-01      0             2160      COP           0             0   \n",
       "397 2014-04-01      0              180      COP           0             0   \n",
       "\n",
       "    sale_devolution  year month  \n",
       "162            -608  2014     4  \n",
       "342       -1,286.00  2014     4  \n",
       "356            -612  2014     4  \n",
       "386      -40,608.00  2014     4  \n",
       "397      -11,574.00  2014     4  \n",
       "\n",
       "[5 rows x 28 columns]"
      ]
     },
     "execution_count": 50,
     "metadata": {},
     "output_type": "execute_result"
    }
   ],
   "source": [
    "snacks_df[snacks_df['units'] == 0].head()"
   ]
  },
  {
   "cell_type": "code",
   "execution_count": 53,
   "metadata": {
    "scrolled": true
   },
   "outputs": [
    {
     "data": {
      "text/html": [
       "<div>\n",
       "<style scoped>\n",
       "    .dataframe tbody tr th:only-of-type {\n",
       "        vertical-align: middle;\n",
       "    }\n",
       "\n",
       "    .dataframe tbody tr th {\n",
       "        vertical-align: top;\n",
       "    }\n",
       "\n",
       "    .dataframe thead th {\n",
       "        text-align: right;\n",
       "    }\n",
       "</style>\n",
       "<table border=\"1\" class=\"dataframe\">\n",
       "  <thead>\n",
       "    <tr style=\"text-align: right;\">\n",
       "      <th></th>\n",
       "      <th>country_region</th>\n",
       "      <th>office_department_city</th>\n",
       "      <th>description</th>\n",
       "      <th>area_name</th>\n",
       "      <th>warehouse_id</th>\n",
       "      <th>warehouse_city</th>\n",
       "      <th>category_id</th>\n",
       "      <th>category_name</th>\n",
       "      <th>brand_id</th>\n",
       "      <th>price_type</th>\n",
       "      <th>...</th>\n",
       "      <th>distributor</th>\n",
       "      <th>date</th>\n",
       "      <th>units</th>\n",
       "      <th>devolution_units</th>\n",
       "      <th>currency</th>\n",
       "      <th>sale_amount</th>\n",
       "      <th>sale_discount</th>\n",
       "      <th>sale_devolution</th>\n",
       "      <th>year</th>\n",
       "      <th>month</th>\n",
       "    </tr>\n",
       "  </thead>\n",
       "  <tbody>\n",
       "    <tr>\n",
       "      <th>10</th>\n",
       "      <td>Sur</td>\n",
       "      <td>Cali</td>\n",
       "      <td>AUTOSERVICIOS CALI</td>\n",
       "      <td>AUTOSERVICIOS CALI</td>\n",
       "      <td>85201.0</td>\n",
       "      <td>NORTE</td>\n",
       "      <td>CAT1</td>\n",
       "      <td>Producto de Extrusion</td>\n",
       "      <td>M01</td>\n",
       "      <td>OFERTADO</td>\n",
       "      <td>...</td>\n",
       "      <td>Superficies Menores</td>\n",
       "      <td>2014-04-01</td>\n",
       "      <td>100</td>\n",
       "      <td>40</td>\n",
       "      <td>COP</td>\n",
       "      <td>73,280.00</td>\n",
       "      <td>-10,992.00</td>\n",
       "      <td>-29,312.00</td>\n",
       "      <td>2014</td>\n",
       "      <td>4</td>\n",
       "    </tr>\n",
       "    <tr>\n",
       "      <th>68</th>\n",
       "      <td>Norte</td>\n",
       "      <td>Monteria</td>\n",
       "      <td>AUTOSERVICIOS MONTERIA</td>\n",
       "      <td>AUTOSERVICOS MONTERIA</td>\n",
       "      <td>85235.0</td>\n",
       "      <td>MONTERIA</td>\n",
       "      <td>CAT1</td>\n",
       "      <td>Producto de Extrusion</td>\n",
       "      <td>M01</td>\n",
       "      <td>OFERTADO</td>\n",
       "      <td>...</td>\n",
       "      <td>Grandes Superficies</td>\n",
       "      <td>2014-04-01</td>\n",
       "      <td>320</td>\n",
       "      <td>500</td>\n",
       "      <td>COP</td>\n",
       "      <td>23,450.00</td>\n",
       "      <td>-4,689.92</td>\n",
       "      <td>-3,664.00</td>\n",
       "      <td>2014</td>\n",
       "      <td>4</td>\n",
       "    </tr>\n",
       "    <tr>\n",
       "      <th>75</th>\n",
       "      <td>Norte</td>\n",
       "      <td>Cartagena</td>\n",
       "      <td>AUTOSERVICIOS CARTAGENA</td>\n",
       "      <td>AUTOSERVICIOS CARTAGENA</td>\n",
       "      <td>85224.0</td>\n",
       "      <td>CARTAGENA</td>\n",
       "      <td>CAT1</td>\n",
       "      <td>Producto de Extrusion</td>\n",
       "      <td>M01</td>\n",
       "      <td>OFERTADO</td>\n",
       "      <td>...</td>\n",
       "      <td>Grandes Superficies</td>\n",
       "      <td>2014-04-01</td>\n",
       "      <td>160</td>\n",
       "      <td>20</td>\n",
       "      <td>COP</td>\n",
       "      <td>117,248.00</td>\n",
       "      <td>-23,449.60</td>\n",
       "      <td>-14,656.00</td>\n",
       "      <td>2014</td>\n",
       "      <td>4</td>\n",
       "    </tr>\n",
       "    <tr>\n",
       "      <th>86</th>\n",
       "      <td>Norte</td>\n",
       "      <td>Valledupar</td>\n",
       "      <td>VENTA AL PASO VALLEDUPAR</td>\n",
       "      <td>VENTA AL PASO VALLEDUPAR</td>\n",
       "      <td>85233.0</td>\n",
       "      <td>VALLEDUPAR</td>\n",
       "      <td>CAT1</td>\n",
       "      <td>Producto de Extrusion</td>\n",
       "      <td>M01</td>\n",
       "      <td>REGULAR</td>\n",
       "      <td>...</td>\n",
       "      <td>Grandes Superficies</td>\n",
       "      <td>2014-04-01</td>\n",
       "      <td>1200</td>\n",
       "      <td>240</td>\n",
       "      <td>COP</td>\n",
       "      <td>225,600.00</td>\n",
       "      <td>-33,840.00</td>\n",
       "      <td>-45,120.00</td>\n",
       "      <td>2014</td>\n",
       "      <td>4</td>\n",
       "    </tr>\n",
       "    <tr>\n",
       "      <th>144</th>\n",
       "      <td>Sur</td>\n",
       "      <td>MedellinA</td>\n",
       "      <td>AUTOSERVICIOS MEDELLIN</td>\n",
       "      <td>AUTOSERVICIOS MEDELLIN</td>\n",
       "      <td>85206.0</td>\n",
       "      <td>SUR</td>\n",
       "      <td>CAT1</td>\n",
       "      <td>Producto de Extrusion</td>\n",
       "      <td>M01</td>\n",
       "      <td>REGULAR</td>\n",
       "      <td>...</td>\n",
       "      <td>Grandes Superficies</td>\n",
       "      <td>2014-04-01</td>\n",
       "      <td>1920</td>\n",
       "      <td>720</td>\n",
       "      <td>COP</td>\n",
       "      <td>360,960.00</td>\n",
       "      <td>-54,144.00</td>\n",
       "      <td>-135,360.00</td>\n",
       "      <td>2014</td>\n",
       "      <td>4</td>\n",
       "    </tr>\n",
       "  </tbody>\n",
       "</table>\n",
       "<p>5 rows × 28 columns</p>\n",
       "</div>"
      ],
      "text/plain": [
       "    country_region office_department_city               description  \\\n",
       "10             Sur                   Cali        AUTOSERVICIOS CALI   \n",
       "68           Norte               Monteria    AUTOSERVICIOS MONTERIA   \n",
       "75           Norte              Cartagena   AUTOSERVICIOS CARTAGENA   \n",
       "86           Norte             Valledupar  VENTA AL PASO VALLEDUPAR   \n",
       "144            Sur              MedellinA    AUTOSERVICIOS MEDELLIN   \n",
       "\n",
       "                    area_name  warehouse_id warehouse_city category_id  \\\n",
       "10         AUTOSERVICIOS CALI       85201.0          NORTE        CAT1   \n",
       "68      AUTOSERVICOS MONTERIA       85235.0       MONTERIA        CAT1   \n",
       "75    AUTOSERVICIOS CARTAGENA       85224.0      CARTAGENA        CAT1   \n",
       "86   VENTA AL PASO VALLEDUPAR       85233.0     VALLEDUPAR        CAT1   \n",
       "144    AUTOSERVICIOS MEDELLIN       85206.0            SUR        CAT1   \n",
       "\n",
       "             category_name brand_id price_type  ...           distributor  \\\n",
       "10   Producto de Extrusion      M01   OFERTADO  ...   Superficies Menores   \n",
       "68   Producto de Extrusion      M01   OFERTADO  ...   Grandes Superficies   \n",
       "75   Producto de Extrusion      M01   OFERTADO  ...   Grandes Superficies   \n",
       "86   Producto de Extrusion      M01    REGULAR  ...   Grandes Superficies   \n",
       "144  Producto de Extrusion      M01    REGULAR  ...   Grandes Superficies   \n",
       "\n",
       "          date  units devolution_units currency sale_amount sale_discount  \\\n",
       "10  2014-04-01    100               40      COP   73,280.00    -10,992.00   \n",
       "68  2014-04-01    320              500      COP   23,450.00     -4,689.92   \n",
       "75  2014-04-01    160               20      COP  117,248.00    -23,449.60   \n",
       "86  2014-04-01   1200              240      COP  225,600.00    -33,840.00   \n",
       "144 2014-04-01   1920              720      COP  360,960.00    -54,144.00   \n",
       "\n",
       "    sale_devolution  year month  \n",
       "10       -29,312.00  2014     4  \n",
       "68        -3,664.00  2014     4  \n",
       "75       -14,656.00  2014     4  \n",
       "86       -45,120.00  2014     4  \n",
       "144     -135,360.00  2014     4  \n",
       "\n",
       "[5 rows x 28 columns]"
      ]
     },
     "execution_count": 53,
     "metadata": {},
     "output_type": "execute_result"
    }
   ],
   "source": [
    "snacks_df[(snacks_df['units'] > 0) & (snacks_df['devolution_units'] > 0)].head()"
   ]
  },
  {
   "cell_type": "markdown",
   "metadata": {},
   "source": [
    "Let's try a simple for all removing outliers"
   ]
  },
  {
   "cell_type": "code",
   "execution_count": 71,
   "metadata": {},
   "outputs": [
    {
     "data": {
      "text/plain": [
       "<matplotlib.legend.Legend at 0x1444ebc50>"
      ]
     },
     "execution_count": 71,
     "metadata": {},
     "output_type": "execute_result"
    },
    {
     "data": {
      "image/png": "[encoded data removed]",
      "text/plain": [
       "<Figure size 1152x720 with 1 Axes>"
      ]
     },
     "metadata": {
      "needs_background": "light"
     },
     "output_type": "display_data"
    }
   ],
   "source": [
    "x = snacks_df[\n",
    "    (snacks_df['country_region'].notna()) &\n",
    "    (snacks_df['country_region'] != 'Ventas al Exterior') &\n",
    "    (snacks_df['units'] > 0)\n",
    "]\n",
    "\n",
    "Q1 = x['units'].quantile(0.25)\n",
    "Q3 = x['units'].quantile(0.75)\n",
    "IQR = Q3 - Q1\n",
    "\n",
    "filtered = x.query('(@Q1 - 1.5 * @IQR) <= units <= (@Q3 + 1.5 * @IQR)')\n",
    "plt.figure(figsize = (16, 10))\n",
    "sns.boxplot(data = filtered, x = 'year', y = 'units', hue = 'distributor')\n",
    "plt.legend(loc = 'upper left')"
   ]
  },
  {
   "cell_type": "markdown",
   "metadata": {},
   "source": [
    "How can we view a distributor distribution"
   ]
  },
  {
   "cell_type": "code",
   "execution_count": 82,
   "metadata": {},
   "outputs": [
    {
     "data": {
      "text/plain": [
       "<matplotlib.axes._subplots.AxesSubplot at 0x144285780>"
      ]
     },
     "execution_count": 82,
     "metadata": {},
     "output_type": "execute_result"
    },
    {
     "data": {
      "image/png": "[encoded data removed]",
      "text/plain": [
       "<Figure size 1152x720 with 1 Axes>"
      ]
     },
     "metadata": {
      "needs_background": "light"
     },
     "output_type": "display_data"
    }
   ],
   "source": [
    "x = filtered[filtered['distributor'] == 'Cadenas Medianas']\n",
    "\n",
    "plt.figure(figsize = (16, 10))\n",
    "sns.distplot(x['units'], bins = 5) # test with least bins, and more"
   ]
  },
  {
   "cell_type": "markdown",
   "metadata": {},
   "source": [
    "I want to calculate the sum of units sales by month in the time by type of distributor"
   ]
  },
  {
   "cell_type": "code",
   "execution_count": 92,
   "metadata": {
    "scrolled": false
   },
   "outputs": [
    {
     "name": "stderr",
     "output_type": "stream",
     "text": [
      "/Users/juanprq/anaconda3/lib/python3.7/site-packages/ipykernel_launcher.py:8: SettingWithCopyWarning: \n",
      "A value is trying to be set on a copy of a slice from a DataFrame.\n",
      "Try using .loc[row_indexer,col_indexer] = value instead\n",
      "\n",
      "See the caveats in the documentation: http://pandas.pydata.org/pandas-docs/stable/indexing.html#indexing-view-versus-copy\n",
      "  \n"
     ]
    },
    {
     "data": {
      "text/plain": [
       "(array([ 0,  1,  2,  3,  4,  5,  6,  7,  8,  9, 10, 11, 12, 13, 14, 15, 16,\n",
       "        17, 18, 19, 20, 21, 22, 23, 24, 25, 26, 27, 28, 29, 30, 31, 32, 33,\n",
       "        34, 35, 36, 37, 38, 39, 40, 41, 42, 43, 44, 45, 46, 47, 48]),\n",
       " <a list of 49 Text xticklabel objects>)"
      ]
     },
     "execution_count": 92,
     "metadata": {},
     "output_type": "execute_result"
    },
    {
     "data": {
      "image/png": "[encoded data removed]",
      "text/plain": [
       "<Figure size 1152x720 with 1 Axes>"
      ]
     },
     "metadata": {
      "needs_background": "light"
     },
     "output_type": "display_data"
    }
   ],
   "source": [
    "x = snacks_df[\n",
    "    (snacks_df['country_region'].notna()) &\n",
    "    (snacks_df['country_region'] != 'Ventas al Exterior') &\n",
    "    (snacks_df['units'] > 0) &\n",
    "    (snacks_df['distributor'] == 'Cadenas Medianas')\n",
    "]\n",
    "\n",
    "x['yyyymm'] = x['date'].map(lambda x: x.strftime('%Y%m'))\n",
    "grouping = x.groupby('yyyymm')['units'].sum().reset_index()\n",
    "plt.figure(figsize = (16, 10))\n",
    "sns.barplot(x = 'yyyymm', y = 'units', data = grouping)\n",
    "plt.xticks(rotation = 90)"
   ]
  },
  {
   "cell_type": "markdown",
   "metadata": {},
   "source": [
    "dates that stores bought a lot of product."
   ]
  },
  {
   "cell_type": "markdown",
   "metadata": {},
   "source": [
    "Does this makes sense?"
   ]
  },
  {
   "cell_type": "code",
   "execution_count": 99,
   "metadata": {},
   "outputs": [
    {
     "name": "stderr",
     "output_type": "stream",
     "text": [
      "/Users/juanprq/anaconda3/lib/python3.7/site-packages/ipykernel_launcher.py:1: UserWarning: Boolean Series key will be reindexed to match DataFrame index.\n",
      "  \"\"\"Entry point for launching an IPython kernel.\n"
     ]
    },
    {
     "data": {
      "text/plain": [
       "<matplotlib.axes._subplots.AxesSubplot at 0x133fdc3c8>"
      ]
     },
     "execution_count": 99,
     "metadata": {},
     "output_type": "execute_result"
    },
    {
     "data": {
      "image/png": "[encoded data removed]",
      "text/plain": [
       "<Figure size 1152x720 with 1 Axes>"
      ]
     },
     "metadata": {
      "needs_background": "light"
     },
     "output_type": "display_data"
    }
   ],
   "source": [
    "x = snacks_df[snacks_df['country_region'] != 'Ventas al Exterior'][snacks_df['year'] == 2015][snacks_df['units'] > 0]\n",
    "\n",
    "x['log'] = np. (x['units'])\n",
    "plt.figure(figsize = (16, 10))\n",
    "sns.distplot(x['log'])"
   ]
  },
  {
   "cell_type": "markdown",
   "metadata": {},
   "source": [
    "What we identified is that there are some basic features that we should have into mind in order to segment the data and analyze it better\n",
    "\n",
    "    * country_region\n",
    "    * year\n",
    "    * month\n",
    "    * distributor\n",
    "    * category_name\n",
    "   \n",
    "Also i suspect that this are also features that help us to segment the date:\n",
    "\n",
    "    * price_type\n",
    "    * return? (if the return units it's more than 0, this doesn't exists right now)\n",
    "    * flavor"
   ]
  },
  {
   "cell_type": "markdown",
   "metadata": {},
   "source": [
    "Count by month for every year, sales units of cadenas medianas"
   ]
  },
  {
   "cell_type": "code",
   "execution_count": 124,
   "metadata": {},
   "outputs": [
    {
     "name": "stderr",
     "output_type": "stream",
     "text": [
      "/Users/juanprq/anaconda3/lib/python3.7/site-packages/ipykernel_launcher.py:2: SettingWithCopyWarning: \n",
      "A value is trying to be set on a copy of a slice from a DataFrame.\n",
      "Try using .loc[row_indexer,col_indexer] = value instead\n",
      "\n",
      "See the caveats in the documentation: http://pandas.pydata.org/pandas-docs/stable/indexing.html#indexing-view-versus-copy\n",
      "  \n"
     ]
    },
    {
     "data": {
      "image/png": "[encoded data removed]",
      "text/plain": [
       "<Figure size 1152x1152 with 5 Axes>"
      ]
     },
     "metadata": {
      "needs_background": "light"
     },
     "output_type": "display_data"
    }
   ],
   "source": [
    "x = filtered[filtered['distributor'] == 'Cadenas Medianas']\n",
    "x['yyyymm'] = x['date'].map(lambda x: x.strftime('%Y%m'))\n",
    "\n",
    "fig = plt.figure(figsize = (16, 16))\n",
    "\n",
    "for i, year in enumerate(x['year'].unique()):\n",
    "    fig.add_subplot(3, 2, i + 1)\n",
    "    aux = x[x['year'] == year]\n",
    "    sns.barplot(data = aux, x = 'month', y = 'units').set_title(year)\n",
    "\n",
    "# sw peonro agrupar bimestral o trimestral"
   ]
  },
  {
   "cell_type": "markdown",
   "metadata": {},
   "source": [
    "SI tener un incentivo hace que se compre mas\n",
    "Sera que hay empresas que usan mucho la devolucion de producto ().\n",
    "QUe tipo de producto son problematicos para devoluciones\n",
    "Hay tipos de productos en diferentes marcas? por que puede pasar esto? a quien le compran mas?"
   ]
  }
 ],
 "metadata": {
  "kernelspec": {
   "display_name": "Python 3",
   "language": "python",
   "name": "python3"
  },
  "language_info": {
   "codemirror_mode": {
    "name": "ipython",
    "version": 3
   },
   "file_extension": ".py",
   "mimetype": "text/x-python",
   "name": "python",
   "nbconvert_exporter": "python",
   "pygments_lexer": "ipython3",
   "version": "3.6.8"
  }
 },
 "nbformat": 4,
 "nbformat_minor": 4
}
