{
 "cells": [
  {
   "cell_type": "markdown",
   "metadata": {},
   "source": [
    "# Questions to answer with the dashboard"
   ]
  },
  {
   "cell_type": "markdown",
   "metadata": {},
   "source": [
    "## Categorical values to segment the data"
   ]
  },
  {
   "cell_type": "markdown",
   "metadata": {},
   "source": [
    "* country_region\n",
    "* office_department_city\n",
    "* category_name\n",
    "* brand_id\n",
    "* price_type\n",
    "* distributor"
   ]
  },
  {
   "cell_type": "markdown",
   "metadata": {},
   "source": [
    "## Tab Offices"
   ]
  },
  {
   "cell_type": "markdown",
   "metadata": {},
   "source": [
    "* How the sales units behave throught time?\n",
    "* How sales behave through time?\n",
    "* What are the product types that make more sales?\n",
    "* What are the top 5 products that make more sales?\n",
    "* What are the top 5 warehouses that make more sales?\n",
    "* What are the top 5 clients?\n",
    "* how the sales behave through the distributors?\n",
    "* How the top 5 products behave throught time?\n",
    "* How the top 5 clients behave throught time?\n",
    "* how the discount affects sales in offices sales and the distributors?"
   ]
  },
  {
   "cell_type": "markdown",
   "metadata": {},
   "source": [
    "## Tab Brands (?) I'm not sure about this tab"
   ]
  },
  {
   "cell_type": "markdown",
   "metadata": {},
   "source": [
    "* question 1?\n",
    "* question 2?"
   ]
  },
  {
   "cell_type": "markdown",
   "metadata": {},
   "source": [
    "## Tab products"
   ]
  },
  {
   "cell_type": "markdown",
   "metadata": {},
   "source": [
    "* How flavors behave agains other variables, like offices, ditributor or warehouses? distribution makes sense? I need to be more precise what do I want to include the flavor in the analysis.\n",
    "* question 2?"
   ]
  }
 ],
 "metadata": {
  "kernelspec": {
   "display_name": "Python 3",
   "language": "python",
   "name": "python3"
  },
  "language_info": {
   "codemirror_mode": {
    "name": "ipython",
    "version": 3
   },
   "file_extension": ".py",
   "mimetype": "text/x-python",
   "name": "python",
   "nbconvert_exporter": "python",
   "pygments_lexer": "ipython3",
   "version": "3.6.8"
  }
 },
 "nbformat": 4,
 "nbformat_minor": 4
}
