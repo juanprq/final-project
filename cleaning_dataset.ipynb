{
 "cells": [
  {
   "cell_type": "code",
   "execution_count": 1,
   "metadata": {},
   "outputs": [],
   "source": [
    "import pandas as pd\n",
    "import matplotlib.pyplot as plt\n",
    "import seaborn as sns\n",
    "import numpy as np"
   ]
  },
  {
   "cell_type": "code",
   "execution_count": 2,
   "metadata": {},
   "outputs": [],
   "source": [
    "snacks_df = pd.read_csv('./datasets/snacks.csv', dtype = { 'client_id': str })"
   ]
  },
  {
   "cell_type": "code",
   "execution_count": 3,
   "metadata": {},
   "outputs": [
    {
     "data": {
      "text/html": [
       "<div>\n",
       "<style scoped>\n",
       "    .dataframe tbody tr th:only-of-type {\n",
       "        vertical-align: middle;\n",
       "    }\n",
       "\n",
       "    .dataframe tbody tr th {\n",
       "        vertical-align: top;\n",
       "    }\n",
       "\n",
       "    .dataframe thead th {\n",
       "        text-align: right;\n",
       "    }\n",
       "</style>\n",
       "<table border=\"1\" class=\"dataframe\">\n",
       "  <thead>\n",
       "    <tr style=\"text-align: right;\">\n",
       "      <th></th>\n",
       "      <th>country_region</th>\n",
       "      <th>office_department_city</th>\n",
       "      <th>description</th>\n",
       "      <th>area_name</th>\n",
       "      <th>warehouse_id</th>\n",
       "      <th>warehouse_city</th>\n",
       "      <th>category_id</th>\n",
       "      <th>category_name</th>\n",
       "      <th>brand_id</th>\n",
       "      <th>price_type</th>\n",
       "      <th>...</th>\n",
       "      <th>client_name</th>\n",
       "      <th>point_of_sale_name</th>\n",
       "      <th>distributor</th>\n",
       "      <th>date</th>\n",
       "      <th>units</th>\n",
       "      <th>devolution_units</th>\n",
       "      <th>currency</th>\n",
       "      <th>sale_amount</th>\n",
       "      <th>sale_discount</th>\n",
       "      <th>sale_devolution</th>\n",
       "    </tr>\n",
       "  </thead>\n",
       "  <tbody>\n",
       "    <tr>\n",
       "      <td>0</td>\n",
       "      <td>Centro</td>\n",
       "      <td>Ibague</td>\n",
       "      <td>IBAGUE 1</td>\n",
       "      <td>SALADO</td>\n",
       "      <td>85228.0</td>\n",
       "      <td>IBAGUE</td>\n",
       "      <td>CAT1</td>\n",
       "      <td>Producto de Extrusion</td>\n",
       "      <td>M01</td>\n",
       "      <td>REGULAR</td>\n",
       "      <td>...</td>\n",
       "      <td>NaN</td>\n",
       "      <td>NaN</td>\n",
       "      <td>Tiendas</td>\n",
       "      <td>1/04/2014</td>\n",
       "      <td>39600</td>\n",
       "      <td>0</td>\n",
       "      <td>COP</td>\n",
       "      <td>493,529.00</td>\n",
       "      <td>-93,769.56</td>\n",
       "      <td>0</td>\n",
       "    </tr>\n",
       "    <tr>\n",
       "      <td>1</td>\n",
       "      <td>Sur</td>\n",
       "      <td>Cali</td>\n",
       "      <td>TULUA</td>\n",
       "      <td>EL PRINCIPE</td>\n",
       "      <td>85205.0</td>\n",
       "      <td>TULUA</td>\n",
       "      <td>CAT1</td>\n",
       "      <td>Producto de Extrusion</td>\n",
       "      <td>M01</td>\n",
       "      <td>OFERTADO</td>\n",
       "      <td>...</td>\n",
       "      <td>NaN</td>\n",
       "      <td>NaN</td>\n",
       "      <td>Tiendas</td>\n",
       "      <td>1/04/2014</td>\n",
       "      <td>324</td>\n",
       "      <td>0</td>\n",
       "      <td>COP</td>\n",
       "      <td>181,530.00</td>\n",
       "      <td>-32,675.40</td>\n",
       "      <td>0</td>\n",
       "    </tr>\n",
       "    <tr>\n",
       "      <td>2</td>\n",
       "      <td>Sur</td>\n",
       "      <td>Nariño</td>\n",
       "      <td>POPAYAN</td>\n",
       "      <td>MOTO CONQUISTA POPAYAN</td>\n",
       "      <td>85220.0</td>\n",
       "      <td>POPAYAN</td>\n",
       "      <td>CAT1</td>\n",
       "      <td>Producto de Extrusion</td>\n",
       "      <td>M01</td>\n",
       "      <td>OFERTADO</td>\n",
       "      <td>...</td>\n",
       "      <td>NaN</td>\n",
       "      <td>NaN</td>\n",
       "      <td>Tiendas</td>\n",
       "      <td>1/04/2014</td>\n",
       "      <td>36</td>\n",
       "      <td>0</td>\n",
       "      <td>COP</td>\n",
       "      <td>20,170.00</td>\n",
       "      <td>-4,437.40</td>\n",
       "      <td>0</td>\n",
       "    </tr>\n",
       "    <tr>\n",
       "      <td>3</td>\n",
       "      <td>Sur</td>\n",
       "      <td>Nariño</td>\n",
       "      <td>POPAYAN</td>\n",
       "      <td>MOTO CONQUISTA POPAYAN</td>\n",
       "      <td>85220.0</td>\n",
       "      <td>POPAYAN</td>\n",
       "      <td>CAT1</td>\n",
       "      <td>Producto de Extrusion</td>\n",
       "      <td>M01</td>\n",
       "      <td>REGULAR</td>\n",
       "      <td>...</td>\n",
       "      <td>NaN</td>\n",
       "      <td>NaN</td>\n",
       "      <td>Tiendas</td>\n",
       "      <td>1/04/2014</td>\n",
       "      <td>73200</td>\n",
       "      <td>0</td>\n",
       "      <td>COP</td>\n",
       "      <td>91,227.00</td>\n",
       "      <td>-20,069.98</td>\n",
       "      <td>0</td>\n",
       "    </tr>\n",
       "    <tr>\n",
       "      <td>4</td>\n",
       "      <td>Norte</td>\n",
       "      <td>Bucaramanga</td>\n",
       "      <td>FLORIDA</td>\n",
       "      <td>REPOSO</td>\n",
       "      <td>85230.0</td>\n",
       "      <td>BUCARAMANGA</td>\n",
       "      <td>CAT1</td>\n",
       "      <td>Producto de Extrusion</td>\n",
       "      <td>M01</td>\n",
       "      <td>OFERTADO</td>\n",
       "      <td>...</td>\n",
       "      <td>NaN</td>\n",
       "      <td>NaN</td>\n",
       "      <td>Tiendas</td>\n",
       "      <td>1/04/2014</td>\n",
       "      <td>3924</td>\n",
       "      <td>0</td>\n",
       "      <td>COP</td>\n",
       "      <td>2,198,533.00</td>\n",
       "      <td>-395,736.97</td>\n",
       "      <td>0</td>\n",
       "    </tr>\n",
       "  </tbody>\n",
       "</table>\n",
       "<p>5 rows × 26 columns</p>\n",
       "</div>"
      ],
      "text/plain": [
       "  country_region office_department_city description               area_name  \\\n",
       "0         Centro                 Ibague    IBAGUE 1                  SALADO   \n",
       "1            Sur                   Cali       TULUA             EL PRINCIPE   \n",
       "2            Sur                 Nariño     POPAYAN  MOTO CONQUISTA POPAYAN   \n",
       "3            Sur                 Nariño     POPAYAN  MOTO CONQUISTA POPAYAN   \n",
       "4          Norte            Bucaramanga     FLORIDA                  REPOSO   \n",
       "\n",
       "   warehouse_id warehouse_city category_id          category_name brand_id  \\\n",
       "0       85228.0         IBAGUE        CAT1  Producto de Extrusion      M01   \n",
       "1       85205.0          TULUA        CAT1  Producto de Extrusion      M01   \n",
       "2       85220.0        POPAYAN        CAT1  Producto de Extrusion      M01   \n",
       "3       85220.0        POPAYAN        CAT1  Producto de Extrusion      M01   \n",
       "4       85230.0    BUCARAMANGA        CAT1  Producto de Extrusion      M01   \n",
       "\n",
       "  price_type  ...  client_name  point_of_sale_name  distributor       date  \\\n",
       "0    REGULAR  ...          NaN                 NaN      Tiendas  1/04/2014   \n",
       "1   OFERTADO  ...          NaN                 NaN      Tiendas  1/04/2014   \n",
       "2   OFERTADO  ...          NaN                 NaN      Tiendas  1/04/2014   \n",
       "3    REGULAR  ...          NaN                 NaN      Tiendas  1/04/2014   \n",
       "4   OFERTADO  ...          NaN                 NaN      Tiendas  1/04/2014   \n",
       "\n",
       "   units devolution_units currency   sale_amount sale_discount sale_devolution  \n",
       "0  39600                0      COP    493,529.00    -93,769.56               0  \n",
       "1    324                0      COP    181,530.00    -32,675.40               0  \n",
       "2     36                0      COP     20,170.00     -4,437.40               0  \n",
       "3  73200                0      COP     91,227.00    -20,069.98               0  \n",
       "4   3924                0      COP  2,198,533.00   -395,736.97               0  \n",
       "\n",
       "[5 rows x 26 columns]"
      ]
     },
     "execution_count": 3,
     "metadata": {},
     "output_type": "execute_result"
    }
   ],
   "source": [
    "snacks_df.head()"
   ]
  },
  {
   "cell_type": "code",
   "execution_count": 4,
   "metadata": {},
   "outputs": [
    {
     "data": {
      "text/plain": [
       "array([' Centro', ' Sur', ' Norte', 'Ventas al Exterior', 'Norte',\n",
       "       'Centro', nan, 'Sur', 'Ventas Miscelaneas'], dtype=object)"
      ]
     },
     "execution_count": 4,
     "metadata": {},
     "output_type": "execute_result"
    }
   ],
   "source": [
    "snacks_df['country_region'].unique()"
   ]
  },
  {
   "cell_type": "code",
   "execution_count": 5,
   "metadata": {},
   "outputs": [
    {
     "data": {
      "text/plain": [
       "array(['Centro', 'Sur', 'Norte', 'Ventas al Exterior', nan,\n",
       "       'Ventas Miscelaneas'], dtype=object)"
      ]
     },
     "execution_count": 5,
     "metadata": {},
     "output_type": "execute_result"
    }
   ],
   "source": [
    "snacks_df['country_region'] = snacks_df['country_region'].str.strip()\n",
    "snacks_df['country_region'].unique()"
   ]
  },
  {
   "cell_type": "code",
   "execution_count": 6,
   "metadata": {},
   "outputs": [
    {
     "data": {
      "text/plain": [
       "<matplotlib.axes._subplots.AxesSubplot at 0x7f82e1354128>"
      ]
     },
     "execution_count": 6,
     "metadata": {},
     "output_type": "execute_result"
    },
    {
     "data": {
      "image/png": "[encoded data removed]",
      "text/plain": [
       "<Figure size 1152x720 with 1 Axes>"
      ]
     },
     "metadata": {
      "needs_background": "light"
     },
     "output_type": "display_data"
    }
   ],
   "source": [
    "group = snacks_df.groupby('country_region')['units'].sum().reset_index(name='units').sort_values('units', ascending=False)\n",
    "\n",
    "plt.figure(figsize=(16, 10))\n",
    "sns.barplot(x='country_region', y='units', data=group)"
   ]
  },
  {
   "cell_type": "code",
   "execution_count": 7,
   "metadata": {},
   "outputs": [
    {
     "data": {
      "text/plain": [
       "(1213737, 26)"
      ]
     },
     "execution_count": 7,
     "metadata": {},
     "output_type": "execute_result"
    }
   ],
   "source": [
    "clean_df = snacks_df[snacks_df['country_region'] == 'Sur']\n",
    "clean_df.shape"
   ]
  },
  {
   "cell_type": "code",
   "execution_count": 8,
   "metadata": {},
   "outputs": [
    {
     "data": {
      "text/plain": [
       "101433"
      ]
     },
     "execution_count": 8,
     "metadata": {},
     "output_type": "execute_result"
    }
   ],
   "source": [
    "clean_df['category_name'].isna().sum()"
   ]
  },
  {
   "cell_type": "code",
   "execution_count": 9,
   "metadata": {},
   "outputs": [],
   "source": [
    "to_rename = {\n",
    "    'pruduction_line': 'production_line',\n",
    "    'office_department_city': 'office_name',\n",
    "    'warehouse_city': 'warehouse_name'\n",
    "}\n",
    "clean_df = clean_df.rename(columns=to_rename)"
   ]
  },
  {
   "cell_type": "code",
   "execution_count": 10,
   "metadata": {},
   "outputs": [
    {
     "data": {
      "text/plain": [
       "False"
      ]
     },
     "execution_count": 10,
     "metadata": {},
     "output_type": "execute_result"
    }
   ],
   "source": [
    "clean_df = clean_df[clean_df['distributor'].notna()]\n",
    "clean_df['distributor'].isna().any()"
   ]
  },
  {
   "cell_type": "code",
   "execution_count": 11,
   "metadata": {},
   "outputs": [],
   "source": [
    "clean_df['incentive'] = clean_df['price_type'].apply(lambda x: True if x == 'OFERTADO' else False)"
   ]
  },
  {
   "cell_type": "code",
   "execution_count": 12,
   "metadata": {},
   "outputs": [
    {
     "data": {
      "text/plain": [
       "(1213721, 17)"
      ]
     },
     "execution_count": 12,
     "metadata": {},
     "output_type": "execute_result"
    }
   ],
   "source": [
    "clean_df = clean_df.drop([\n",
    "    'production_line',\n",
    "    'warehouse_id',\n",
    "    'area_name',\n",
    "    'weight',\n",
    "    'currency',\n",
    "    'category_id',\n",
    "    'plant',\n",
    "    'client_id',\n",
    "    'price_type',\n",
    "    'country_region'\n",
    "], axis=1)\n",
    "clean_df.shape"
   ]
  },
  {
   "cell_type": "code",
   "execution_count": 13,
   "metadata": {},
   "outputs": [],
   "source": [
    "float_columns = ['sale_amount', 'sale_discount', 'sale_devolution']\n",
    "for column in float_columns:\n",
    "    clean_df[column] = clean_df[column].str.replace(',', '').astype(float)"
   ]
  },
  {
   "cell_type": "code",
   "execution_count": 14,
   "metadata": {},
   "outputs": [],
   "source": [
    "brand_names = {\n",
    "    'M01': 'Cheetos',\n",
    "    'M02': 'Popcorn',\n",
    "    'M03': 'Cheetos',\n",
    "    'M08': 'Criollas',\n",
    "    'M07': 'Ruffles',\n",
    "    'M16': 'Todo en uno',\n",
    "    'Otras': 'Dulces',\n",
    "    'M27': 'Surtidas',\n",
    "    'M25': 'Costillas',\n",
    "    'M24': 'Choclos',\n",
    "    'M11': 'Ruffles econo',\n",
    "    'M20': 'Tortillitas',\n",
    "    'M14': 'Criollas econo',\n",
    "    'M18': 'Caleñas',\n",
    "    'M17': 'Surtidas',\n",
    "    'M23': 'Nachos',\n",
    "    'M28': 'Fritas econo',\n",
    "    'M13': 'Platanos econo',\n",
    "    'M26': 'Costillas econo',\n",
    "    'M09': 'Papas econo'\n",
    "}\n",
    "\n",
    "def name_brand(x):\n",
    "    if x in brand_names.keys():\n",
    "        return brand_names[x]\n",
    "    else:\n",
    "        return x"
   ]
  },
  {
   "cell_type": "code",
   "execution_count": 15,
   "metadata": {},
   "outputs": [],
   "source": [
    "clean_df['brand_id'] = clean_df['brand_id'].apply(name_brand)\n",
    "clean_df = clean_df.rename(columns={'brand_id': 'brand'})"
   ]
  },
  {
   "cell_type": "code",
   "execution_count": 16,
   "metadata": {},
   "outputs": [],
   "source": [
    "clean_df['category_name'] = clean_df['category_name'].fillna('Dulces')"
   ]
  },
  {
   "cell_type": "code",
   "execution_count": 17,
   "metadata": {},
   "outputs": [],
   "source": [
    "def get_warehouse_name(name):\n",
    "    if name is np.nan:\n",
    "        return name\n",
    "    algo = clean_df[clean_df['description'].str.contains(name) | False].groupby('warehouse_name')['date'].count().reset_index().sort_values('date')\n",
    "    if len(algo) == 0:\n",
    "        return np.nan\n",
    "    return algo.iloc[-1]['warehouse_name']\n",
    "\n",
    "descriptions = clean_df[clean_df['warehouse_name'].isna()]['description'].unique()\n",
    "desc_warehouse_dict = {}\n",
    "\n",
    "for each in descriptions:\n",
    "    desc_warehouse_dict[each] = get_warehouse_name(each)\n",
    "\n",
    "desc_warehouse_dict['VENTA DIRECTA MEDELLIN'] = 'SUR'"
   ]
  },
  {
   "cell_type": "code",
   "execution_count": 18,
   "metadata": {},
   "outputs": [],
   "source": [
    "clean_df.loc[clean_df['warehouse_name'].isna(), 'warehouse_name'] = clean_df[clean_df['warehouse_name'].isna()]['description'].map(desc_warehouse_dict)\n",
    "clean_df = clean_df.drop(['description'], axis=1)"
   ]
  },
  {
   "cell_type": "code",
   "execution_count": 19,
   "metadata": {},
   "outputs": [],
   "source": [
    "to_rename = {\n",
    "    'office_name': 'office',\n",
    "    'warehouse_name': 'warehouse',\n",
    "    'category_name': 'category',\n",
    "    'flavor_name': 'flavor',\n",
    "    'client_name': 'client',\n",
    "    'point_of_sale_name': 'point_of_sale'\n",
    "}\n",
    "clean_df = clean_df.rename(columns=to_rename)"
   ]
  },
  {
   "cell_type": "code",
   "execution_count": 23,
   "metadata": {},
   "outputs": [],
   "source": [
    "# Normalize categorical columns\n",
    "# office, warehouse, category, brand, flavor, client, point_of_sale, distributor\n",
    "columns = ['office', 'warehouse', 'category', 'brand', 'flavor', 'client', 'point_of_sale', 'distributor']\n",
    "for column in columns:\n",
    "    clean_df[column] = clean_df[column].map(lambda name: name.title() if isinstance(name, str) else name)"
   ]
  },
  {
   "cell_type": "code",
   "execution_count": 26,
   "metadata": {},
   "outputs": [],
   "source": [
    "columns = ['sale_discount', 'sale_devolution']\n",
    "\n",
    "for column in columns:\n",
    "    if (clean_df[column] <= 0).all():\n",
    "        clean_df[column] *= -1"
   ]
  },
  {
   "cell_type": "code",
   "execution_count": 27,
   "metadata": {},
   "outputs": [
    {
     "data": {
      "text/html": [
       "<div>\n",
       "<style scoped>\n",
       "    .dataframe tbody tr th:only-of-type {\n",
       "        vertical-align: middle;\n",
       "    }\n",
       "\n",
       "    .dataframe tbody tr th {\n",
       "        vertical-align: top;\n",
       "    }\n",
       "\n",
       "    .dataframe thead th {\n",
       "        text-align: right;\n",
       "    }\n",
       "</style>\n",
       "<table border=\"1\" class=\"dataframe\">\n",
       "  <thead>\n",
       "    <tr style=\"text-align: right;\">\n",
       "      <th></th>\n",
       "      <th>office</th>\n",
       "      <th>warehouse</th>\n",
       "      <th>category</th>\n",
       "      <th>brand</th>\n",
       "      <th>product_id</th>\n",
       "      <th>flavor</th>\n",
       "      <th>client</th>\n",
       "      <th>point_of_sale</th>\n",
       "      <th>distributor</th>\n",
       "      <th>date</th>\n",
       "      <th>units</th>\n",
       "      <th>devolution_units</th>\n",
       "      <th>sale_amount</th>\n",
       "      <th>sale_discount</th>\n",
       "      <th>sale_devolution</th>\n",
       "      <th>incentive</th>\n",
       "    </tr>\n",
       "  </thead>\n",
       "  <tbody>\n",
       "    <tr>\n",
       "      <td>1</td>\n",
       "      <td>Cali</td>\n",
       "      <td>Tulua</td>\n",
       "      <td>Producto De Extrusion</td>\n",
       "      <td>Cheetos</td>\n",
       "      <td>53407164</td>\n",
       "      <td>Tradicional</td>\n",
       "      <td>NaN</td>\n",
       "      <td>NaN</td>\n",
       "      <td>Tiendas</td>\n",
       "      <td>1/04/2014</td>\n",
       "      <td>324</td>\n",
       "      <td>0</td>\n",
       "      <td>181530.0</td>\n",
       "      <td>32675.40</td>\n",
       "      <td>-0.0</td>\n",
       "      <td>True</td>\n",
       "    </tr>\n",
       "    <tr>\n",
       "      <td>2</td>\n",
       "      <td>Nariño</td>\n",
       "      <td>Popayan</td>\n",
       "      <td>Producto De Extrusion</td>\n",
       "      <td>Cheetos</td>\n",
       "      <td>53407164</td>\n",
       "      <td>Tradicional</td>\n",
       "      <td>NaN</td>\n",
       "      <td>NaN</td>\n",
       "      <td>Tiendas</td>\n",
       "      <td>1/04/2014</td>\n",
       "      <td>36</td>\n",
       "      <td>0</td>\n",
       "      <td>20170.0</td>\n",
       "      <td>4437.40</td>\n",
       "      <td>-0.0</td>\n",
       "      <td>True</td>\n",
       "    </tr>\n",
       "    <tr>\n",
       "      <td>3</td>\n",
       "      <td>Nariño</td>\n",
       "      <td>Popayan</td>\n",
       "      <td>Producto De Extrusion</td>\n",
       "      <td>Cheetos</td>\n",
       "      <td>53102174</td>\n",
       "      <td>Tradicional</td>\n",
       "      <td>NaN</td>\n",
       "      <td>NaN</td>\n",
       "      <td>Tiendas</td>\n",
       "      <td>1/04/2014</td>\n",
       "      <td>73200</td>\n",
       "      <td>0</td>\n",
       "      <td>91227.0</td>\n",
       "      <td>20069.98</td>\n",
       "      <td>-0.0</td>\n",
       "      <td>False</td>\n",
       "    </tr>\n",
       "    <tr>\n",
       "      <td>8</td>\n",
       "      <td>Cali</td>\n",
       "      <td>Sur</td>\n",
       "      <td>Producto De Extrusion</td>\n",
       "      <td>Cheetos</td>\n",
       "      <td>53408215</td>\n",
       "      <td>Tradicional</td>\n",
       "      <td>NaN</td>\n",
       "      <td>NaN</td>\n",
       "      <td>Tiendas</td>\n",
       "      <td>1/04/2014</td>\n",
       "      <td>1080</td>\n",
       "      <td>0</td>\n",
       "      <td>605100.0</td>\n",
       "      <td>108918.43</td>\n",
       "      <td>-0.0</td>\n",
       "      <td>True</td>\n",
       "    </tr>\n",
       "    <tr>\n",
       "      <td>10</td>\n",
       "      <td>Cali</td>\n",
       "      <td>Norte</td>\n",
       "      <td>Producto De Extrusion</td>\n",
       "      <td>Cheetos</td>\n",
       "      <td>53408024</td>\n",
       "      <td>Tradicional</td>\n",
       "      <td>NaN</td>\n",
       "      <td>NaN</td>\n",
       "      <td>Superficies Menores</td>\n",
       "      <td>1/04/2014</td>\n",
       "      <td>100</td>\n",
       "      <td>40</td>\n",
       "      <td>73280.0</td>\n",
       "      <td>10992.00</td>\n",
       "      <td>29312.0</td>\n",
       "      <td>True</td>\n",
       "    </tr>\n",
       "  </tbody>\n",
       "</table>\n",
       "</div>"
      ],
      "text/plain": [
       "    office warehouse               category    brand  product_id       flavor  \\\n",
       "1     Cali     Tulua  Producto De Extrusion  Cheetos    53407164  Tradicional   \n",
       "2   Nariño   Popayan  Producto De Extrusion  Cheetos    53407164  Tradicional   \n",
       "3   Nariño   Popayan  Producto De Extrusion  Cheetos    53102174  Tradicional   \n",
       "8     Cali       Sur  Producto De Extrusion  Cheetos    53408215  Tradicional   \n",
       "10    Cali     Norte  Producto De Extrusion  Cheetos    53408024  Tradicional   \n",
       "\n",
       "   client point_of_sale          distributor       date  units  \\\n",
       "1     NaN           NaN              Tiendas  1/04/2014    324   \n",
       "2     NaN           NaN              Tiendas  1/04/2014     36   \n",
       "3     NaN           NaN              Tiendas  1/04/2014  73200   \n",
       "8     NaN           NaN              Tiendas  1/04/2014   1080   \n",
       "10    NaN           NaN  Superficies Menores  1/04/2014    100   \n",
       "\n",
       "    devolution_units  sale_amount  sale_discount  sale_devolution  incentive  \n",
       "1                  0     181530.0       32675.40             -0.0       True  \n",
       "2                  0      20170.0        4437.40             -0.0       True  \n",
       "3                  0      91227.0       20069.98             -0.0      False  \n",
       "8                  0     605100.0      108918.43             -0.0       True  \n",
       "10                40      73280.0       10992.00          29312.0       True  "
      ]
     },
     "execution_count": 27,
     "metadata": {},
     "output_type": "execute_result"
    }
   ],
   "source": [
    "clean_df.head()"
   ]
  },
  {
   "cell_type": "code",
   "execution_count": 29,
   "metadata": {},
   "outputs": [],
   "source": [
    "clean_df.to_csv('./datasets/clean_snacks.csv', encoding='utf-8', index=False)"
   ]
  }
 ],
 "metadata": {
  "kernelspec": {
   "display_name": "Python 3",
   "language": "python",
   "name": "python3"
  },
  "language_info": {
   "codemirror_mode": {
    "name": "ipython",
    "version": 3
   },
   "file_extension": ".py",
   "mimetype": "text/x-python",
   "name": "python",
   "nbconvert_exporter": "python",
   "pygments_lexer": "ipython3",
   "version": "3.6.8"
  }
 },
 "nbformat": 4,
 "nbformat_minor": 4
}
