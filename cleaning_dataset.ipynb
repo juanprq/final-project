{
 "cells": [
  {
   "cell_type": "code",
   "execution_count": 101,
   "metadata": {},
   "outputs": [],
   "source": [
    "import pandas as pd\n",
    "import matplotlib.pyplot as plt\n",
    "import seaborn as sns\n",
    "import numpy as np"
   ]
  },
  {
   "cell_type": "code",
   "execution_count": 45,
   "metadata": {},
   "outputs": [],
   "source": [
    "snacks_df = pd.read_csv('./datasets/snacks.csv', dtype = { 'client_id': str })"
   ]
  },
  {
   "cell_type": "code",
   "execution_count": 46,
   "metadata": {},
   "outputs": [
    {
     "data": {
      "text/html": [
       "<div>\n",
       "<style scoped>\n",
       "    .dataframe tbody tr th:only-of-type {\n",
       "        vertical-align: middle;\n",
       "    }\n",
       "\n",
       "    .dataframe tbody tr th {\n",
       "        vertical-align: top;\n",
       "    }\n",
       "\n",
       "    .dataframe thead th {\n",
       "        text-align: right;\n",
       "    }\n",
       "</style>\n",
       "<table border=\"1\" class=\"dataframe\">\n",
       "  <thead>\n",
       "    <tr style=\"text-align: right;\">\n",
       "      <th></th>\n",
       "      <th>country_region</th>\n",
       "      <th>office_department_city</th>\n",
       "      <th>description</th>\n",
       "      <th>area_name</th>\n",
       "      <th>warehouse_id</th>\n",
       "      <th>warehouse_city</th>\n",
       "      <th>category_id</th>\n",
       "      <th>category_name</th>\n",
       "      <th>brand_id</th>\n",
       "      <th>price_type</th>\n",
       "      <th>...</th>\n",
       "      <th>client_name</th>\n",
       "      <th>point_of_sale_name</th>\n",
       "      <th>distributor</th>\n",
       "      <th>date</th>\n",
       "      <th>units</th>\n",
       "      <th>devolution_units</th>\n",
       "      <th>currency</th>\n",
       "      <th>sale_amount</th>\n",
       "      <th>sale_discount</th>\n",
       "      <th>sale_devolution</th>\n",
       "    </tr>\n",
       "  </thead>\n",
       "  <tbody>\n",
       "    <tr>\n",
       "      <td>0</td>\n",
       "      <td>Centro</td>\n",
       "      <td>Ibague</td>\n",
       "      <td>IBAGUE 1</td>\n",
       "      <td>SALADO</td>\n",
       "      <td>85228.0</td>\n",
       "      <td>IBAGUE</td>\n",
       "      <td>CAT1</td>\n",
       "      <td>Producto de Extrusion</td>\n",
       "      <td>M01</td>\n",
       "      <td>REGULAR</td>\n",
       "      <td>...</td>\n",
       "      <td>NaN</td>\n",
       "      <td>NaN</td>\n",
       "      <td>Tiendas</td>\n",
       "      <td>1/04/2014</td>\n",
       "      <td>39600</td>\n",
       "      <td>0</td>\n",
       "      <td>COP</td>\n",
       "      <td>493,529.00</td>\n",
       "      <td>-93,769.56</td>\n",
       "      <td>0</td>\n",
       "    </tr>\n",
       "    <tr>\n",
       "      <td>1</td>\n",
       "      <td>Sur</td>\n",
       "      <td>Cali</td>\n",
       "      <td>TULUA</td>\n",
       "      <td>EL PRINCIPE</td>\n",
       "      <td>85205.0</td>\n",
       "      <td>TULUA</td>\n",
       "      <td>CAT1</td>\n",
       "      <td>Producto de Extrusion</td>\n",
       "      <td>M01</td>\n",
       "      <td>OFERTADO</td>\n",
       "      <td>...</td>\n",
       "      <td>NaN</td>\n",
       "      <td>NaN</td>\n",
       "      <td>Tiendas</td>\n",
       "      <td>1/04/2014</td>\n",
       "      <td>324</td>\n",
       "      <td>0</td>\n",
       "      <td>COP</td>\n",
       "      <td>181,530.00</td>\n",
       "      <td>-32,675.40</td>\n",
       "      <td>0</td>\n",
       "    </tr>\n",
       "    <tr>\n",
       "      <td>2</td>\n",
       "      <td>Sur</td>\n",
       "      <td>Nariño</td>\n",
       "      <td>POPAYAN</td>\n",
       "      <td>MOTO CONQUISTA POPAYAN</td>\n",
       "      <td>85220.0</td>\n",
       "      <td>POPAYAN</td>\n",
       "      <td>CAT1</td>\n",
       "      <td>Producto de Extrusion</td>\n",
       "      <td>M01</td>\n",
       "      <td>OFERTADO</td>\n",
       "      <td>...</td>\n",
       "      <td>NaN</td>\n",
       "      <td>NaN</td>\n",
       "      <td>Tiendas</td>\n",
       "      <td>1/04/2014</td>\n",
       "      <td>36</td>\n",
       "      <td>0</td>\n",
       "      <td>COP</td>\n",
       "      <td>20,170.00</td>\n",
       "      <td>-4,437.40</td>\n",
       "      <td>0</td>\n",
       "    </tr>\n",
       "    <tr>\n",
       "      <td>3</td>\n",
       "      <td>Sur</td>\n",
       "      <td>Nariño</td>\n",
       "      <td>POPAYAN</td>\n",
       "      <td>MOTO CONQUISTA POPAYAN</td>\n",
       "      <td>85220.0</td>\n",
       "      <td>POPAYAN</td>\n",
       "      <td>CAT1</td>\n",
       "      <td>Producto de Extrusion</td>\n",
       "      <td>M01</td>\n",
       "      <td>REGULAR</td>\n",
       "      <td>...</td>\n",
       "      <td>NaN</td>\n",
       "      <td>NaN</td>\n",
       "      <td>Tiendas</td>\n",
       "      <td>1/04/2014</td>\n",
       "      <td>73200</td>\n",
       "      <td>0</td>\n",
       "      <td>COP</td>\n",
       "      <td>91,227.00</td>\n",
       "      <td>-20,069.98</td>\n",
       "      <td>0</td>\n",
       "    </tr>\n",
       "    <tr>\n",
       "      <td>4</td>\n",
       "      <td>Norte</td>\n",
       "      <td>Bucaramanga</td>\n",
       "      <td>FLORIDA</td>\n",
       "      <td>REPOSO</td>\n",
       "      <td>85230.0</td>\n",
       "      <td>BUCARAMANGA</td>\n",
       "      <td>CAT1</td>\n",
       "      <td>Producto de Extrusion</td>\n",
       "      <td>M01</td>\n",
       "      <td>OFERTADO</td>\n",
       "      <td>...</td>\n",
       "      <td>NaN</td>\n",
       "      <td>NaN</td>\n",
       "      <td>Tiendas</td>\n",
       "      <td>1/04/2014</td>\n",
       "      <td>3924</td>\n",
       "      <td>0</td>\n",
       "      <td>COP</td>\n",
       "      <td>2,198,533.00</td>\n",
       "      <td>-395,736.97</td>\n",
       "      <td>0</td>\n",
       "    </tr>\n",
       "  </tbody>\n",
       "</table>\n",
       "<p>5 rows × 26 columns</p>\n",
       "</div>"
      ],
      "text/plain": [
       "  country_region office_department_city description               area_name  \\\n",
       "0         Centro                 Ibague    IBAGUE 1                  SALADO   \n",
       "1            Sur                   Cali       TULUA             EL PRINCIPE   \n",
       "2            Sur                 Nariño     POPAYAN  MOTO CONQUISTA POPAYAN   \n",
       "3            Sur                 Nariño     POPAYAN  MOTO CONQUISTA POPAYAN   \n",
       "4          Norte            Bucaramanga     FLORIDA                  REPOSO   \n",
       "\n",
       "   warehouse_id warehouse_city category_id          category_name brand_id  \\\n",
       "0       85228.0         IBAGUE        CAT1  Producto de Extrusion      M01   \n",
       "1       85205.0          TULUA        CAT1  Producto de Extrusion      M01   \n",
       "2       85220.0        POPAYAN        CAT1  Producto de Extrusion      M01   \n",
       "3       85220.0        POPAYAN        CAT1  Producto de Extrusion      M01   \n",
       "4       85230.0    BUCARAMANGA        CAT1  Producto de Extrusion      M01   \n",
       "\n",
       "  price_type  ...  client_name  point_of_sale_name  distributor       date  \\\n",
       "0    REGULAR  ...          NaN                 NaN      Tiendas  1/04/2014   \n",
       "1   OFERTADO  ...          NaN                 NaN      Tiendas  1/04/2014   \n",
       "2   OFERTADO  ...          NaN                 NaN      Tiendas  1/04/2014   \n",
       "3    REGULAR  ...          NaN                 NaN      Tiendas  1/04/2014   \n",
       "4   OFERTADO  ...          NaN                 NaN      Tiendas  1/04/2014   \n",
       "\n",
       "   units devolution_units currency   sale_amount sale_discount sale_devolution  \n",
       "0  39600                0      COP    493,529.00    -93,769.56               0  \n",
       "1    324                0      COP    181,530.00    -32,675.40               0  \n",
       "2     36                0      COP     20,170.00     -4,437.40               0  \n",
       "3  73200                0      COP     91,227.00    -20,069.98               0  \n",
       "4   3924                0      COP  2,198,533.00   -395,736.97               0  \n",
       "\n",
       "[5 rows x 26 columns]"
      ]
     },
     "execution_count": 46,
     "metadata": {},
     "output_type": "execute_result"
    }
   ],
   "source": [
    "snacks_df.head()"
   ]
  },
  {
   "cell_type": "code",
   "execution_count": 47,
   "metadata": {},
   "outputs": [
    {
     "data": {
      "text/plain": [
       "array([' Centro', ' Sur', ' Norte', 'Ventas al Exterior', 'Norte',\n",
       "       'Centro', nan, 'Sur', 'Ventas Miscelaneas'], dtype=object)"
      ]
     },
     "execution_count": 47,
     "metadata": {},
     "output_type": "execute_result"
    }
   ],
   "source": [
    "snacks_df['country_region'].unique()"
   ]
  },
  {
   "cell_type": "code",
   "execution_count": 48,
   "metadata": {},
   "outputs": [
    {
     "data": {
      "text/plain": [
       "array(['Centro', 'Sur', 'Norte', 'Ventas al Exterior', nan,\n",
       "       'Ventas Miscelaneas'], dtype=object)"
      ]
     },
     "execution_count": 48,
     "metadata": {},
     "output_type": "execute_result"
    }
   ],
   "source": [
    "snacks_df['country_region'] = snacks_df['country_region'].str.strip()\n",
    "snacks_df['country_region'].unique()"
   ]
  },
  {
   "cell_type": "code",
   "execution_count": 49,
   "metadata": {},
   "outputs": [
    {
     "data": {
      "text/plain": [
       "<matplotlib.axes._subplots.AxesSubplot at 0x7f9f151e9c88>"
      ]
     },
     "execution_count": 49,
     "metadata": {},
     "output_type": "execute_result"
    },
    {
     "data": {
      "image/png": "[encoded data removed]",
      "text/plain": [
       "<Figure size 1152x720 with 1 Axes>"
      ]
     },
     "metadata": {
      "needs_background": "light"
     },
     "output_type": "display_data"
    }
   ],
   "source": [
    "group = snacks_df.groupby('country_region')['units'].sum().reset_index(name='units').sort_values('units', ascending=False)\n",
    "\n",
    "plt.figure(figsize=(16, 10))\n",
    "sns.barplot(x='country_region', y='units', data=group)"
   ]
  },
  {
   "cell_type": "code",
   "execution_count": 50,
   "metadata": {},
   "outputs": [
    {
     "data": {
      "text/plain": [
       "(1213737, 26)"
      ]
     },
     "execution_count": 50,
     "metadata": {},
     "output_type": "execute_result"
    }
   ],
   "source": [
    "clean_df = snacks_df[snacks_df['country_region'] == 'Sur']\n",
    "clean_df.shape"
   ]
  },
  {
   "cell_type": "code",
   "execution_count": 51,
   "metadata": {},
   "outputs": [
    {
     "data": {
      "text/plain": [
       "101433"
      ]
     },
     "execution_count": 51,
     "metadata": {},
     "output_type": "execute_result"
    }
   ],
   "source": [
    "clean_df['category_name'].isna().sum()"
   ]
  },
  {
   "cell_type": "code",
   "execution_count": 52,
   "metadata": {},
   "outputs": [
    {
     "data": {
      "text/plain": [
       "Index(['country_region', 'office_name', 'description', 'area_name',\n",
       "       'warehouse_id', 'warehouse_name', 'category_id', 'category_name',\n",
       "       'brand_id', 'price_type', 'production_line', 'product_id', 'weight',\n",
       "       'plant', 'client_id', 'flavor_name', 'client_name',\n",
       "       'point_of_sale_name', 'distributor', 'date', 'units',\n",
       "       'devolution_units', 'currency', 'sale_amount', 'sale_discount',\n",
       "       'sale_devolution'],\n",
       "      dtype='object')"
      ]
     },
     "execution_count": 52,
     "metadata": {},
     "output_type": "execute_result"
    }
   ],
   "source": [
    "to_rename = {\n",
    "    'pruduction_line': 'production_line',\n",
    "    'office_department_city': 'office_name',\n",
    "    'warehouse_city': 'warehouse_name'\n",
    "}\n",
    "clean_df = clean_df.rename(columns=to_rename)\n",
    "clean_df.columns"
   ]
  },
  {
   "cell_type": "code",
   "execution_count": 53,
   "metadata": {},
   "outputs": [
    {
     "data": {
      "text/plain": [
       "False"
      ]
     },
     "execution_count": 53,
     "metadata": {},
     "output_type": "execute_result"
    }
   ],
   "source": [
    "# I want to remove: production_line, warehouse_id, area_name, weight, currency, sale_amount\n",
    "clean_df = clean_df[clean_df['distributor'].notna()]\n",
    "clean_df['distributor'].isna().any()"
   ]
  },
  {
   "cell_type": "code",
   "execution_count": 54,
   "metadata": {},
   "outputs": [],
   "source": [
    "clean_df['incentive'] = clean_df['price_type'].apply(lambda x: True if x == 'OFERTADO' else False)"
   ]
  },
  {
   "cell_type": "code",
   "execution_count": 55,
   "metadata": {},
   "outputs": [
    {
     "data": {
      "text/plain": [
       "(1213721, 17)"
      ]
     },
     "execution_count": 55,
     "metadata": {},
     "output_type": "execute_result"
    }
   ],
   "source": [
    "clean_df = clean_df.drop([\n",
    "    'production_line',\n",
    "    'warehouse_id',\n",
    "    'area_name',\n",
    "    'weight',\n",
    "    'currency',\n",
    "#     'sale_amount',\n",
    "    'category_id',\n",
    "    'plant',\n",
    "    'client_id',\n",
    "    'price_type',\n",
    "    'country_region'\n",
    "], axis=1)\n",
    "clean_df.shape"
   ]
  },
  {
   "cell_type": "code",
   "execution_count": 56,
   "metadata": {},
   "outputs": [],
   "source": [
    "float_columns = ['sale_amount', 'sale_discount', 'sale_devolution']\n",
    "for column in float_columns:\n",
    "    clean_df[column] = clean_df[column].str.replace(',', '').astype(float)"
   ]
  },
  {
   "cell_type": "code",
   "execution_count": 57,
   "metadata": {},
   "outputs": [
    {
     "data": {
      "text/html": [
       "<div>\n",
       "<style scoped>\n",
       "    .dataframe tbody tr th:only-of-type {\n",
       "        vertical-align: middle;\n",
       "    }\n",
       "\n",
       "    .dataframe tbody tr th {\n",
       "        vertical-align: top;\n",
       "    }\n",
       "\n",
       "    .dataframe thead th {\n",
       "        text-align: right;\n",
       "    }\n",
       "</style>\n",
       "<table border=\"1\" class=\"dataframe\">\n",
       "  <thead>\n",
       "    <tr style=\"text-align: right;\">\n",
       "      <th></th>\n",
       "      <th>office_name</th>\n",
       "      <th>description</th>\n",
       "      <th>warehouse_name</th>\n",
       "      <th>category_name</th>\n",
       "      <th>brand_id</th>\n",
       "      <th>product_id</th>\n",
       "      <th>flavor_name</th>\n",
       "      <th>client_name</th>\n",
       "      <th>point_of_sale_name</th>\n",
       "      <th>distributor</th>\n",
       "      <th>date</th>\n",
       "      <th>units</th>\n",
       "      <th>devolution_units</th>\n",
       "      <th>sale_amount</th>\n",
       "      <th>sale_discount</th>\n",
       "      <th>sale_devolution</th>\n",
       "      <th>incentive</th>\n",
       "    </tr>\n",
       "  </thead>\n",
       "  <tbody>\n",
       "    <tr>\n",
       "      <td>1</td>\n",
       "      <td>Cali</td>\n",
       "      <td>TULUA</td>\n",
       "      <td>TULUA</td>\n",
       "      <td>Producto de Extrusion</td>\n",
       "      <td>M01</td>\n",
       "      <td>53407164</td>\n",
       "      <td>TRADICIONAL</td>\n",
       "      <td>NaN</td>\n",
       "      <td>NaN</td>\n",
       "      <td>Tiendas</td>\n",
       "      <td>1/04/2014</td>\n",
       "      <td>324</td>\n",
       "      <td>0</td>\n",
       "      <td>181530.0</td>\n",
       "      <td>-32675.40</td>\n",
       "      <td>0.0</td>\n",
       "      <td>True</td>\n",
       "    </tr>\n",
       "    <tr>\n",
       "      <td>2</td>\n",
       "      <td>Nariño</td>\n",
       "      <td>POPAYAN</td>\n",
       "      <td>POPAYAN</td>\n",
       "      <td>Producto de Extrusion</td>\n",
       "      <td>M01</td>\n",
       "      <td>53407164</td>\n",
       "      <td>TRADICIONAL</td>\n",
       "      <td>NaN</td>\n",
       "      <td>NaN</td>\n",
       "      <td>Tiendas</td>\n",
       "      <td>1/04/2014</td>\n",
       "      <td>36</td>\n",
       "      <td>0</td>\n",
       "      <td>20170.0</td>\n",
       "      <td>-4437.40</td>\n",
       "      <td>0.0</td>\n",
       "      <td>True</td>\n",
       "    </tr>\n",
       "    <tr>\n",
       "      <td>3</td>\n",
       "      <td>Nariño</td>\n",
       "      <td>POPAYAN</td>\n",
       "      <td>POPAYAN</td>\n",
       "      <td>Producto de Extrusion</td>\n",
       "      <td>M01</td>\n",
       "      <td>53102174</td>\n",
       "      <td>TRADICIONAL</td>\n",
       "      <td>NaN</td>\n",
       "      <td>NaN</td>\n",
       "      <td>Tiendas</td>\n",
       "      <td>1/04/2014</td>\n",
       "      <td>73200</td>\n",
       "      <td>0</td>\n",
       "      <td>91227.0</td>\n",
       "      <td>-20069.98</td>\n",
       "      <td>0.0</td>\n",
       "      <td>False</td>\n",
       "    </tr>\n",
       "    <tr>\n",
       "      <td>8</td>\n",
       "      <td>Cali</td>\n",
       "      <td>AGUABLANCA - CALI</td>\n",
       "      <td>SUR</td>\n",
       "      <td>Producto de Extrusion</td>\n",
       "      <td>M01</td>\n",
       "      <td>53408215</td>\n",
       "      <td>TRADICIONAL</td>\n",
       "      <td>NaN</td>\n",
       "      <td>NaN</td>\n",
       "      <td>Tiendas</td>\n",
       "      <td>1/04/2014</td>\n",
       "      <td>1080</td>\n",
       "      <td>0</td>\n",
       "      <td>605100.0</td>\n",
       "      <td>-108918.43</td>\n",
       "      <td>0.0</td>\n",
       "      <td>True</td>\n",
       "    </tr>\n",
       "    <tr>\n",
       "      <td>10</td>\n",
       "      <td>Cali</td>\n",
       "      <td>AUTOSERVICIOS CALI</td>\n",
       "      <td>NORTE</td>\n",
       "      <td>Producto de Extrusion</td>\n",
       "      <td>M01</td>\n",
       "      <td>53408024</td>\n",
       "      <td>TRADICIONAL</td>\n",
       "      <td>NaN</td>\n",
       "      <td>NaN</td>\n",
       "      <td>Superficies Menores</td>\n",
       "      <td>1/04/2014</td>\n",
       "      <td>100</td>\n",
       "      <td>40</td>\n",
       "      <td>73280.0</td>\n",
       "      <td>-10992.00</td>\n",
       "      <td>-29312.0</td>\n",
       "      <td>True</td>\n",
       "    </tr>\n",
       "  </tbody>\n",
       "</table>\n",
       "</div>"
      ],
      "text/plain": [
       "   office_name         description warehouse_name          category_name  \\\n",
       "1         Cali               TULUA          TULUA  Producto de Extrusion   \n",
       "2       Nariño             POPAYAN        POPAYAN  Producto de Extrusion   \n",
       "3       Nariño             POPAYAN        POPAYAN  Producto de Extrusion   \n",
       "8         Cali   AGUABLANCA - CALI            SUR  Producto de Extrusion   \n",
       "10        Cali  AUTOSERVICIOS CALI          NORTE  Producto de Extrusion   \n",
       "\n",
       "   brand_id  product_id  flavor_name client_name point_of_sale_name  \\\n",
       "1       M01    53407164  TRADICIONAL         NaN                NaN   \n",
       "2       M01    53407164  TRADICIONAL         NaN                NaN   \n",
       "3       M01    53102174  TRADICIONAL         NaN                NaN   \n",
       "8       M01    53408215  TRADICIONAL         NaN                NaN   \n",
       "10      M01    53408024  TRADICIONAL         NaN                NaN   \n",
       "\n",
       "            distributor       date  units  devolution_units  sale_amount  \\\n",
       "1               Tiendas  1/04/2014    324                 0     181530.0   \n",
       "2               Tiendas  1/04/2014     36                 0      20170.0   \n",
       "3               Tiendas  1/04/2014  73200                 0      91227.0   \n",
       "8               Tiendas  1/04/2014   1080                 0     605100.0   \n",
       "10  Superficies Menores  1/04/2014    100                40      73280.0   \n",
       "\n",
       "    sale_discount  sale_devolution  incentive  \n",
       "1       -32675.40              0.0       True  \n",
       "2        -4437.40              0.0       True  \n",
       "3       -20069.98              0.0      False  \n",
       "8      -108918.43              0.0       True  \n",
       "10      -10992.00         -29312.0       True  "
      ]
     },
     "execution_count": 57,
     "metadata": {},
     "output_type": "execute_result"
    }
   ],
   "source": [
    "clean_df.head()"
   ]
  },
  {
   "cell_type": "code",
   "execution_count": 58,
   "metadata": {},
   "outputs": [
    {
     "data": {
      "text/plain": [
       "array(['M01', 'M02', 'M03', 'M04', 'M05', 'M06', 'M07', 'M08', 'M09',\n",
       "       'M10', 'M11', 'M12', 'M13', 'M14', 'M16', 'M17', 'M18', 'M19',\n",
       "       'M20', 'M21', 'M22', 'M23', 'M24', 'M25', 'M26', 'M27', 'Otras',\n",
       "       'M28'], dtype=object)"
      ]
     },
     "execution_count": 58,
     "metadata": {},
     "output_type": "execute_result"
    }
   ],
   "source": [
    "clean_df['brand_id'].unique()"
   ]
  },
  {
   "cell_type": "code",
   "execution_count": 59,
   "metadata": {},
   "outputs": [],
   "source": [
    "brand_names = {\n",
    "    'M01': 'Cheetos',\n",
    "    'M02': 'Popcorn',\n",
    "    'M03': 'Cheetos',\n",
    "    'M08': 'Criollas',\n",
    "    'M07': 'Ruffles',\n",
    "    'M16': 'Todo en uno',\n",
    "    'Otras': 'Dulces',\n",
    "    'M27': 'Surtidas',\n",
    "    'M25': 'Costillas',\n",
    "    'M24': 'Choclos',\n",
    "    'M11': 'Ruffles econo',\n",
    "    'M20': 'Tortillitas',\n",
    "    'M14': 'Criollas econo',\n",
    "    'M18': 'Caleñas',\n",
    "    'M17': 'Surtidas',\n",
    "    'M23': 'Nachos',\n",
    "    'M28': 'Fritas econo',\n",
    "    'M13': 'Platanos econo',\n",
    "    'M26': 'Costillas econo',\n",
    "    'M09': 'Papas econo'\n",
    "}"
   ]
  },
  {
   "cell_type": "code",
   "execution_count": 60,
   "metadata": {},
   "outputs": [],
   "source": [
    "def name_brand(x):\n",
    "    if x in brand_names.keys():\n",
    "        return brand_names[x]\n",
    "    else:\n",
    "        return x"
   ]
  },
  {
   "cell_type": "code",
   "execution_count": 61,
   "metadata": {},
   "outputs": [],
   "source": [
    "clean_df['brand_id'] = clean_df['brand_id'].apply(name_brand)"
   ]
  },
  {
   "cell_type": "code",
   "execution_count": 63,
   "metadata": {},
   "outputs": [],
   "source": [
    "clean_df = clean_df.rename(columns={'brand_id': 'brand'})"
   ]
  },
  {
   "cell_type": "code",
   "execution_count": 65,
   "metadata": {},
   "outputs": [
    {
     "data": {
      "text/plain": [
       "array(['Dulces'], dtype=object)"
      ]
     },
     "execution_count": 65,
     "metadata": {},
     "output_type": "execute_result"
    }
   ],
   "source": [
    "clean_df[clean_df['category_name'].isna()]['brand'].unique()"
   ]
  },
  {
   "cell_type": "code",
   "execution_count": 68,
   "metadata": {},
   "outputs": [],
   "source": [
    "clean_df['category_name'] = clean_df['category_name'].fillna('Dulces')"
   ]
  },
  {
   "cell_type": "code",
   "execution_count": 72,
   "metadata": {},
   "outputs": [
    {
     "data": {
      "text/plain": [
       "array(['TULUA', 'POPAYAN', 'SUR', 'NORTE', 'PEREIRA', 'BUGA', 'ARMENIA',\n",
       "       'PASTO', 'PALMIRA', 'NARIÑO', 'MANIZALES', 'ESPECIALES',\n",
       "       'PRINCIPAL', nan, 'ITAGUI', 'BARRANQUILLA', 'CARTAGENA',\n",
       "       'BUCARAMANGA'], dtype=object)"
      ]
     },
     "execution_count": 72,
     "metadata": {},
     "output_type": "execute_result"
    }
   ],
   "source": [
    "clean_df['warehouse_name'].unique()"
   ]
  },
  {
   "cell_type": "code",
   "execution_count": 127,
   "metadata": {},
   "outputs": [],
   "source": [
    "def get_warehouse_name(name):\n",
    "    if name is np.nan:\n",
    "        return name\n",
    "    algo = clean_df[clean_df['description'].str.contains(name) | False].groupby('warehouse_name')['date'].count().reset_index().sort_values('date')\n",
    "    if len(algo) == 0:\n",
    "        return np.nan\n",
    "    return algo.iloc[-1]['warehouse_name']"
   ]
  },
  {
   "cell_type": "code",
   "execution_count": 134,
   "metadata": {},
   "outputs": [],
   "source": [
    "#clean_df[clean_df['warehouse_name'].isna()]['warehouse_name'] = clean_df[clean_df['warehouse_name'].isna()]['description'].apply(get_warehouse_name)"
   ]
  },
  {
   "cell_type": "code",
   "execution_count": 143,
   "metadata": {},
   "outputs": [
    {
     "data": {
      "text/plain": [
       "{'AUTOSERVICIOS MEDELLIN': 'SUR',\n",
       " 'VENTA DIRECTA MEDELLIN': nan,\n",
       " 'AUTOSERVICIOS PEREIRA': 'PEREIRA',\n",
       " 'MAYORISTAS MEDELLIN': 'SUR',\n",
       " 'AUTOSERVICIOS NARIÑO': 'PASTO',\n",
       " 'AUTOSERVICIOS CALI': 'NORTE',\n",
       " 'VIAJEROS SUR ': 'SUR',\n",
       " 'MAYORISTAS CALI': 'NORTE',\n",
       " 'INSTITUCIONAL MEDELLIN': 'SUR',\n",
       " 'No Aplica': 'ARMENIA',\n",
       " 'INSTITUCIONAL CALI': 'NORTE',\n",
       " 'INSTITUCIONAL PEREIRA': 'PEREIRA',\n",
       " 'VIAJEROS SUR MEKATO': 'SUR',\n",
       " 'MAYORISTA MEDELLIN': 'SUR',\n",
       " 'BELLO ORIENTE - MEDELLIN': 'NORTE',\n",
       " 'BELEN': 'NORTE',\n",
       " 'BELLO OCCIDENTE - MEDELLIN': 'NORTE',\n",
       " 'ABURRA SUR': 'SUR',\n",
       " 'CENTRO': 'SUR',\n",
       " 'BELLO CENTRO': 'NORTE',\n",
       " 'ABURRA OCCIDENTE': 'NORTE',\n",
       " 'ITAGUI - MEDELLIN': 'SUR',\n",
       " 'BONILLA MENESES, JHON JAIRO': 'NORTE',\n",
       " 'ABURRA ORIENTE': 'NORTE',\n",
       " 'IPIALES': 'NARIÑO',\n",
       " 'PASTO': 'PASTO',\n",
       " 'CHOCO': 'PEREIRA',\n",
       " 'VIAJEROS NORTE ': 'NORTE'}"
      ]
     },
     "execution_count": 143,
     "metadata": {},
     "output_type": "execute_result"
    }
   ],
   "source": [
    "descriptions = clean_df[clean_df['warehouse_name'].isna()]['description'].unique()\n",
    "desc_warehouse_dict = {}\n",
    "for each in descriptions:\n",
    "    desc_warehouse_dict[each] = get_warehouse_name(each)\n",
    "desc_warehouse_dict"
   ]
  },
  {
   "cell_type": "code",
   "execution_count": 154,
   "metadata": {},
   "outputs": [],
   "source": [
    "desc_warehouse_dict['VENTA DIRECTA MEDELLIN'] = 'SUR'"
   ]
  },
  {
   "cell_type": "code",
   "execution_count": 156,
   "metadata": {},
   "outputs": [],
   "source": [
    "clean_df.loc[clean_df['warehouse_name'].isna(), 'warehouse_name'] = clean_df[clean_df['warehouse_name'].isna()]['description'].map(desc_warehouse_dict)"
   ]
  },
  {
   "cell_type": "code",
   "execution_count": 172,
   "metadata": {},
   "outputs": [],
   "source": [
    "grp = clean_df.groupby('client_name')['point_of_sale_name'].unique()"
   ]
  },
  {
   "cell_type": "code",
   "execution_count": 173,
   "metadata": {},
   "outputs": [
    {
     "name": "stdout",
     "output_type": "stream",
     "text": [
      "ALMACENES EXITO S.A. 246\n",
      "ALMACENES LA 14 S.A. 26\n",
      "CAJA COLOMBIANA DE SUBSIDIO FAMILIAR COLSUBSIDIO 5\n",
      "CENCOSUD COLOMBIA S.A. 24\n",
      "COLOMBIANA DE COMERCIO S.A. 9\n",
      "MAKRO SUPERMAYORISTA S.A.S 5\n",
      "PRICESMART COLOMBIA S.A.S. 4\n",
      "SUPERTIENDAS Y DROGUERIAS OLIMPICA S.A. 101\n"
     ]
    }
   ],
   "source": [
    "for i, x in enumerate(grp):\n",
    "    print(grp.index[i], len(x))"
   ]
  },
  {
   "cell_type": "code",
   "execution_count": 168,
   "metadata": {},
   "outputs": [],
   "source": [
    "clean_df = clean_df.drop([\n",
    "    'description',\n",
    "], axis=1)"
   ]
  },
  {
   "cell_type": "code",
   "execution_count": 169,
   "metadata": {},
   "outputs": [
    {
     "data": {
      "text/html": [
       "<div>\n",
       "<style scoped>\n",
       "    .dataframe tbody tr th:only-of-type {\n",
       "        vertical-align: middle;\n",
       "    }\n",
       "\n",
       "    .dataframe tbody tr th {\n",
       "        vertical-align: top;\n",
       "    }\n",
       "\n",
       "    .dataframe thead th {\n",
       "        text-align: right;\n",
       "    }\n",
       "</style>\n",
       "<table border=\"1\" class=\"dataframe\">\n",
       "  <thead>\n",
       "    <tr style=\"text-align: right;\">\n",
       "      <th></th>\n",
       "      <th>office_name</th>\n",
       "      <th>warehouse_name</th>\n",
       "      <th>category_name</th>\n",
       "      <th>brand</th>\n",
       "      <th>product_id</th>\n",
       "      <th>flavor_name</th>\n",
       "      <th>client_name</th>\n",
       "      <th>point_of_sale_name</th>\n",
       "      <th>distributor</th>\n",
       "      <th>date</th>\n",
       "      <th>units</th>\n",
       "      <th>devolution_units</th>\n",
       "      <th>sale_amount</th>\n",
       "      <th>sale_discount</th>\n",
       "      <th>sale_devolution</th>\n",
       "      <th>incentive</th>\n",
       "    </tr>\n",
       "  </thead>\n",
       "  <tbody>\n",
       "    <tr>\n",
       "      <td>1</td>\n",
       "      <td>Cali</td>\n",
       "      <td>TULUA</td>\n",
       "      <td>Producto de Extrusion</td>\n",
       "      <td>Cheetos</td>\n",
       "      <td>53407164</td>\n",
       "      <td>TRADICIONAL</td>\n",
       "      <td>NaN</td>\n",
       "      <td>NaN</td>\n",
       "      <td>Tiendas</td>\n",
       "      <td>1/04/2014</td>\n",
       "      <td>324</td>\n",
       "      <td>0</td>\n",
       "      <td>181530.0</td>\n",
       "      <td>-32675.40</td>\n",
       "      <td>0.0</td>\n",
       "      <td>True</td>\n",
       "    </tr>\n",
       "    <tr>\n",
       "      <td>2</td>\n",
       "      <td>Nariño</td>\n",
       "      <td>POPAYAN</td>\n",
       "      <td>Producto de Extrusion</td>\n",
       "      <td>Cheetos</td>\n",
       "      <td>53407164</td>\n",
       "      <td>TRADICIONAL</td>\n",
       "      <td>NaN</td>\n",
       "      <td>NaN</td>\n",
       "      <td>Tiendas</td>\n",
       "      <td>1/04/2014</td>\n",
       "      <td>36</td>\n",
       "      <td>0</td>\n",
       "      <td>20170.0</td>\n",
       "      <td>-4437.40</td>\n",
       "      <td>0.0</td>\n",
       "      <td>True</td>\n",
       "    </tr>\n",
       "    <tr>\n",
       "      <td>3</td>\n",
       "      <td>Nariño</td>\n",
       "      <td>POPAYAN</td>\n",
       "      <td>Producto de Extrusion</td>\n",
       "      <td>Cheetos</td>\n",
       "      <td>53102174</td>\n",
       "      <td>TRADICIONAL</td>\n",
       "      <td>NaN</td>\n",
       "      <td>NaN</td>\n",
       "      <td>Tiendas</td>\n",
       "      <td>1/04/2014</td>\n",
       "      <td>73200</td>\n",
       "      <td>0</td>\n",
       "      <td>91227.0</td>\n",
       "      <td>-20069.98</td>\n",
       "      <td>0.0</td>\n",
       "      <td>False</td>\n",
       "    </tr>\n",
       "    <tr>\n",
       "      <td>8</td>\n",
       "      <td>Cali</td>\n",
       "      <td>SUR</td>\n",
       "      <td>Producto de Extrusion</td>\n",
       "      <td>Cheetos</td>\n",
       "      <td>53408215</td>\n",
       "      <td>TRADICIONAL</td>\n",
       "      <td>NaN</td>\n",
       "      <td>NaN</td>\n",
       "      <td>Tiendas</td>\n",
       "      <td>1/04/2014</td>\n",
       "      <td>1080</td>\n",
       "      <td>0</td>\n",
       "      <td>605100.0</td>\n",
       "      <td>-108918.43</td>\n",
       "      <td>0.0</td>\n",
       "      <td>True</td>\n",
       "    </tr>\n",
       "    <tr>\n",
       "      <td>10</td>\n",
       "      <td>Cali</td>\n",
       "      <td>NORTE</td>\n",
       "      <td>Producto de Extrusion</td>\n",
       "      <td>Cheetos</td>\n",
       "      <td>53408024</td>\n",
       "      <td>TRADICIONAL</td>\n",
       "      <td>NaN</td>\n",
       "      <td>NaN</td>\n",
       "      <td>Superficies Menores</td>\n",
       "      <td>1/04/2014</td>\n",
       "      <td>100</td>\n",
       "      <td>40</td>\n",
       "      <td>73280.0</td>\n",
       "      <td>-10992.00</td>\n",
       "      <td>-29312.0</td>\n",
       "      <td>True</td>\n",
       "    </tr>\n",
       "  </tbody>\n",
       "</table>\n",
       "</div>"
      ],
      "text/plain": [
       "   office_name warehouse_name          category_name    brand  product_id  \\\n",
       "1         Cali          TULUA  Producto de Extrusion  Cheetos    53407164   \n",
       "2       Nariño        POPAYAN  Producto de Extrusion  Cheetos    53407164   \n",
       "3       Nariño        POPAYAN  Producto de Extrusion  Cheetos    53102174   \n",
       "8         Cali            SUR  Producto de Extrusion  Cheetos    53408215   \n",
       "10        Cali          NORTE  Producto de Extrusion  Cheetos    53408024   \n",
       "\n",
       "    flavor_name client_name point_of_sale_name          distributor  \\\n",
       "1   TRADICIONAL         NaN                NaN              Tiendas   \n",
       "2   TRADICIONAL         NaN                NaN              Tiendas   \n",
       "3   TRADICIONAL         NaN                NaN              Tiendas   \n",
       "8   TRADICIONAL         NaN                NaN              Tiendas   \n",
       "10  TRADICIONAL         NaN                NaN  Superficies Menores   \n",
       "\n",
       "         date  units  devolution_units  sale_amount  sale_discount  \\\n",
       "1   1/04/2014    324                 0     181530.0      -32675.40   \n",
       "2   1/04/2014     36                 0      20170.0       -4437.40   \n",
       "3   1/04/2014  73200                 0      91227.0      -20069.98   \n",
       "8   1/04/2014   1080                 0     605100.0     -108918.43   \n",
       "10  1/04/2014    100                40      73280.0      -10992.00   \n",
       "\n",
       "    sale_devolution  incentive  \n",
       "1               0.0       True  \n",
       "2               0.0       True  \n",
       "3               0.0      False  \n",
       "8               0.0       True  \n",
       "10         -29312.0       True  "
      ]
     },
     "execution_count": 169,
     "metadata": {},
     "output_type": "execute_result"
    }
   ],
   "source": [
    "clean_df.head()"
   ]
  },
  {
   "cell_type": "code",
   "execution_count": 16,
   "metadata": {},
   "outputs": [],
   "source": [
    "#clean_df.to_csv('./datasets/clean_snacks.csv', encoding='utf-8', index=False)"
   ]
  }
 ],
 "metadata": {
  "kernelspec": {
   "display_name": "Python 3",
   "language": "python",
   "name": "python3"
  },
  "language_info": {
   "codemirror_mode": {
    "name": "ipython",
    "version": 3
   },
   "file_extension": ".py",
   "mimetype": "text/x-python",
   "name": "python",
   "nbconvert_exporter": "python",
   "pygments_lexer": "ipython3",
   "version": "3.6.8"
  }
 },
 "nbformat": 4,
 "nbformat_minor": 4
}
