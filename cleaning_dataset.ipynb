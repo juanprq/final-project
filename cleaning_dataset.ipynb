{
 "cells": [
  {
   "cell_type": "code",
   "execution_count": 22,
   "metadata": {},
   "outputs": [],
   "source": [
    "import pandas as pd\n",
    "import matplotlib.pyplot as plt\n",
    "import seaborn as sns"
   ]
  },
  {
   "cell_type": "code",
   "execution_count": 12,
   "metadata": {},
   "outputs": [],
   "source": [
    "snacks_df = pd.read_csv('./datasets/snacks.csv', dtype = { 'client_id': str })"
   ]
  },
  {
   "cell_type": "code",
   "execution_count": 13,
   "metadata": {},
   "outputs": [
    {
     "data": {
      "text/html": [
       "<div>\n",
       "<style scoped>\n",
       "    .dataframe tbody tr th:only-of-type {\n",
       "        vertical-align: middle;\n",
       "    }\n",
       "\n",
       "    .dataframe tbody tr th {\n",
       "        vertical-align: top;\n",
       "    }\n",
       "\n",
       "    .dataframe thead th {\n",
       "        text-align: right;\n",
       "    }\n",
       "</style>\n",
       "<table border=\"1\" class=\"dataframe\">\n",
       "  <thead>\n",
       "    <tr style=\"text-align: right;\">\n",
       "      <th></th>\n",
       "      <th>country_region</th>\n",
       "      <th>office_department_city</th>\n",
       "      <th>description</th>\n",
       "      <th>area_name</th>\n",
       "      <th>warehouse_id</th>\n",
       "      <th>warehouse_city</th>\n",
       "      <th>category_id</th>\n",
       "      <th>category_name</th>\n",
       "      <th>brand_id</th>\n",
       "      <th>price_type</th>\n",
       "      <th>...</th>\n",
       "      <th>client_name</th>\n",
       "      <th>point_of_sale_name</th>\n",
       "      <th>distributor</th>\n",
       "      <th>date</th>\n",
       "      <th>units</th>\n",
       "      <th>devolution_units</th>\n",
       "      <th>currency</th>\n",
       "      <th>sale_amount</th>\n",
       "      <th>sale_discount</th>\n",
       "      <th>sale_devolution</th>\n",
       "    </tr>\n",
       "  </thead>\n",
       "  <tbody>\n",
       "    <tr>\n",
       "      <th>0</th>\n",
       "      <td>Centro</td>\n",
       "      <td>Ibague</td>\n",
       "      <td>IBAGUE 1</td>\n",
       "      <td>SALADO</td>\n",
       "      <td>85228.0</td>\n",
       "      <td>IBAGUE</td>\n",
       "      <td>CAT1</td>\n",
       "      <td>Producto de Extrusion</td>\n",
       "      <td>M01</td>\n",
       "      <td>REGULAR</td>\n",
       "      <td>...</td>\n",
       "      <td>NaN</td>\n",
       "      <td>NaN</td>\n",
       "      <td>Tiendas</td>\n",
       "      <td>1/04/2014</td>\n",
       "      <td>39600</td>\n",
       "      <td>0</td>\n",
       "      <td>COP</td>\n",
       "      <td>493,529.00</td>\n",
       "      <td>-93,769.56</td>\n",
       "      <td>0</td>\n",
       "    </tr>\n",
       "    <tr>\n",
       "      <th>1</th>\n",
       "      <td>Sur</td>\n",
       "      <td>Cali</td>\n",
       "      <td>TULUA</td>\n",
       "      <td>EL PRINCIPE</td>\n",
       "      <td>85205.0</td>\n",
       "      <td>TULUA</td>\n",
       "      <td>CAT1</td>\n",
       "      <td>Producto de Extrusion</td>\n",
       "      <td>M01</td>\n",
       "      <td>OFERTADO</td>\n",
       "      <td>...</td>\n",
       "      <td>NaN</td>\n",
       "      <td>NaN</td>\n",
       "      <td>Tiendas</td>\n",
       "      <td>1/04/2014</td>\n",
       "      <td>324</td>\n",
       "      <td>0</td>\n",
       "      <td>COP</td>\n",
       "      <td>181,530.00</td>\n",
       "      <td>-32,675.40</td>\n",
       "      <td>0</td>\n",
       "    </tr>\n",
       "    <tr>\n",
       "      <th>2</th>\n",
       "      <td>Sur</td>\n",
       "      <td>Nariño</td>\n",
       "      <td>POPAYAN</td>\n",
       "      <td>MOTO CONQUISTA POPAYAN</td>\n",
       "      <td>85220.0</td>\n",
       "      <td>POPAYAN</td>\n",
       "      <td>CAT1</td>\n",
       "      <td>Producto de Extrusion</td>\n",
       "      <td>M01</td>\n",
       "      <td>OFERTADO</td>\n",
       "      <td>...</td>\n",
       "      <td>NaN</td>\n",
       "      <td>NaN</td>\n",
       "      <td>Tiendas</td>\n",
       "      <td>1/04/2014</td>\n",
       "      <td>36</td>\n",
       "      <td>0</td>\n",
       "      <td>COP</td>\n",
       "      <td>20,170.00</td>\n",
       "      <td>-4,437.40</td>\n",
       "      <td>0</td>\n",
       "    </tr>\n",
       "    <tr>\n",
       "      <th>3</th>\n",
       "      <td>Sur</td>\n",
       "      <td>Nariño</td>\n",
       "      <td>POPAYAN</td>\n",
       "      <td>MOTO CONQUISTA POPAYAN</td>\n",
       "      <td>85220.0</td>\n",
       "      <td>POPAYAN</td>\n",
       "      <td>CAT1</td>\n",
       "      <td>Producto de Extrusion</td>\n",
       "      <td>M01</td>\n",
       "      <td>REGULAR</td>\n",
       "      <td>...</td>\n",
       "      <td>NaN</td>\n",
       "      <td>NaN</td>\n",
       "      <td>Tiendas</td>\n",
       "      <td>1/04/2014</td>\n",
       "      <td>73200</td>\n",
       "      <td>0</td>\n",
       "      <td>COP</td>\n",
       "      <td>91,227.00</td>\n",
       "      <td>-20,069.98</td>\n",
       "      <td>0</td>\n",
       "    </tr>\n",
       "    <tr>\n",
       "      <th>4</th>\n",
       "      <td>Norte</td>\n",
       "      <td>Bucaramanga</td>\n",
       "      <td>FLORIDA</td>\n",
       "      <td>REPOSO</td>\n",
       "      <td>85230.0</td>\n",
       "      <td>BUCARAMANGA</td>\n",
       "      <td>CAT1</td>\n",
       "      <td>Producto de Extrusion</td>\n",
       "      <td>M01</td>\n",
       "      <td>OFERTADO</td>\n",
       "      <td>...</td>\n",
       "      <td>NaN</td>\n",
       "      <td>NaN</td>\n",
       "      <td>Tiendas</td>\n",
       "      <td>1/04/2014</td>\n",
       "      <td>3924</td>\n",
       "      <td>0</td>\n",
       "      <td>COP</td>\n",
       "      <td>2,198,533.00</td>\n",
       "      <td>-395,736.97</td>\n",
       "      <td>0</td>\n",
       "    </tr>\n",
       "  </tbody>\n",
       "</table>\n",
       "<p>5 rows × 26 columns</p>\n",
       "</div>"
      ],
      "text/plain": [
       "  country_region office_department_city description               area_name  \\\n",
       "0         Centro                 Ibague    IBAGUE 1                  SALADO   \n",
       "1            Sur                   Cali       TULUA             EL PRINCIPE   \n",
       "2            Sur                 Nariño     POPAYAN  MOTO CONQUISTA POPAYAN   \n",
       "3            Sur                 Nariño     POPAYAN  MOTO CONQUISTA POPAYAN   \n",
       "4          Norte            Bucaramanga     FLORIDA                  REPOSO   \n",
       "\n",
       "   warehouse_id warehouse_city category_id          category_name brand_id  \\\n",
       "0       85228.0         IBAGUE        CAT1  Producto de Extrusion      M01   \n",
       "1       85205.0          TULUA        CAT1  Producto de Extrusion      M01   \n",
       "2       85220.0        POPAYAN        CAT1  Producto de Extrusion      M01   \n",
       "3       85220.0        POPAYAN        CAT1  Producto de Extrusion      M01   \n",
       "4       85230.0    BUCARAMANGA        CAT1  Producto de Extrusion      M01   \n",
       "\n",
       "  price_type       ...        client_name  point_of_sale_name  distributor  \\\n",
       "0    REGULAR       ...                NaN                 NaN      Tiendas   \n",
       "1   OFERTADO       ...                NaN                 NaN      Tiendas   \n",
       "2   OFERTADO       ...                NaN                 NaN      Tiendas   \n",
       "3    REGULAR       ...                NaN                 NaN      Tiendas   \n",
       "4   OFERTADO       ...                NaN                 NaN      Tiendas   \n",
       "\n",
       "        date  units devolution_units currency   sale_amount sale_discount  \\\n",
       "0  1/04/2014  39600                0      COP    493,529.00    -93,769.56   \n",
       "1  1/04/2014    324                0      COP    181,530.00    -32,675.40   \n",
       "2  1/04/2014     36                0      COP     20,170.00     -4,437.40   \n",
       "3  1/04/2014  73200                0      COP     91,227.00    -20,069.98   \n",
       "4  1/04/2014   3924                0      COP  2,198,533.00   -395,736.97   \n",
       "\n",
       "  sale_devolution  \n",
       "0               0  \n",
       "1               0  \n",
       "2               0  \n",
       "3               0  \n",
       "4               0  \n",
       "\n",
       "[5 rows x 26 columns]"
      ]
     },
     "execution_count": 13,
     "metadata": {},
     "output_type": "execute_result"
    }
   ],
   "source": [
    "snacks_df.head()"
   ]
  },
  {
   "cell_type": "code",
   "execution_count": 14,
   "metadata": {},
   "outputs": [
    {
     "data": {
      "text/plain": [
       "array([' Centro', ' Sur', ' Norte', 'Ventas al Exterior', 'Norte',\n",
       "       'Centro', nan, 'Sur', 'Ventas Miscelaneas'], dtype=object)"
      ]
     },
     "execution_count": 14,
     "metadata": {},
     "output_type": "execute_result"
    }
   ],
   "source": [
    "snacks_df['country_region'].unique()"
   ]
  },
  {
   "cell_type": "code",
   "execution_count": 15,
   "metadata": {},
   "outputs": [
    {
     "data": {
      "text/plain": [
       "array(['Centro', 'Sur', 'Norte', 'Ventas al Exterior', nan,\n",
       "       'Ventas Miscelaneas'], dtype=object)"
      ]
     },
     "execution_count": 15,
     "metadata": {},
     "output_type": "execute_result"
    }
   ],
   "source": [
    "snacks_df['country_region'] = snacks_df['country_region'].str.strip()\n",
    "snacks_df['country_region'].unique()"
   ]
  },
  {
   "cell_type": "code",
   "execution_count": 28,
   "metadata": {},
   "outputs": [
    {
     "data": {
      "text/plain": [
       "<matplotlib.axes._subplots.AxesSubplot at 0x1247a4e10>"
      ]
     },
     "execution_count": 28,
     "metadata": {},
     "output_type": "execute_result"
    },
    {
     "data": {
      "image/png": "[encoded data removed]",
      "text/plain": [
       "<Figure size 1152x720 with 1 Axes>"
      ]
     },
     "metadata": {
      "needs_background": "light"
     },
     "output_type": "display_data"
    }
   ],
   "source": [
    "group = snacks_df.groupby('country_region')['units'].sum().reset_index(name='units').sort_values('units', ascending=False)\n",
    "\n",
    "plt.figure(figsize=(16, 10))\n",
    "sns.barplot(x='country_region', y='units', data=group)"
   ]
  },
  {
   "cell_type": "code",
   "execution_count": 29,
   "metadata": {},
   "outputs": [
    {
     "data": {
      "text/plain": [
       "(1213737, 26)"
      ]
     },
     "execution_count": 29,
     "metadata": {},
     "output_type": "execute_result"
    }
   ],
   "source": [
    "clean_df = snacks_df[snacks_df['country_region'] == 'Sur']\n",
    "clean_df.shape"
   ]
  },
  {
   "cell_type": "code",
   "execution_count": 38,
   "metadata": {},
   "outputs": [
    {
     "data": {
      "text/plain": [
       "101433"
      ]
     },
     "execution_count": 38,
     "metadata": {},
     "output_type": "execute_result"
    }
   ],
   "source": [
    "clean_df['category_name'].isna().sum()"
   ]
  },
  {
   "cell_type": "code",
   "execution_count": 44,
   "metadata": {},
   "outputs": [
    {
     "data": {
      "text/plain": [
       "Index(['country_region', 'office_department_city', 'description', 'area_name',\n",
       "       'warehouse_id', 'warehouse_city', 'category_id', 'category_name',\n",
       "       'brand_id', 'price_type', 'production_line', 'product_id', 'weight',\n",
       "       'plant', 'client_id', 'flavor_name', 'client_name',\n",
       "       'point_of_sale_name', 'distributor', 'date', 'units',\n",
       "       'devolution_units', 'currency', 'sale_amount', 'sale_discount',\n",
       "       'sale_devolution'],\n",
       "      dtype='object')"
      ]
     },
     "execution_count": 44,
     "metadata": {},
     "output_type": "execute_result"
    }
   ],
   "source": [
    "clean_df = clean_df.rename(columns={ 'pruduction_line': 'production_line' })\n",
    "clean_df.columns"
   ]
  },
  {
   "cell_type": "code",
   "execution_count": 71,
   "metadata": {},
   "outputs": [
    {
     "data": {
      "text/plain": [
       "False"
      ]
     },
     "execution_count": 71,
     "metadata": {},
     "output_type": "execute_result"
    }
   ],
   "source": [
    "# I want to remove: production_line, warehouse_id, area_name, weight, currency, sale_amount\n",
    "clean_df = clean_df[clean_df['distributor'].notna()]\n",
    "clean_df['distributor'].isna().any()"
   ]
  },
  {
   "cell_type": "code",
   "execution_count": 89,
   "metadata": {},
   "outputs": [
    {
     "data": {
      "text/plain": [
       "(1213721, 19)"
      ]
     },
     "execution_count": 89,
     "metadata": {},
     "output_type": "execute_result"
    }
   ],
   "source": [
    "clean_df = clean_df.drop([\n",
    "    'production_line',\n",
    "    'warehouse_id',\n",
    "    'area_name',\n",
    "    'weight',\n",
    "    'currency',\n",
    "    'sale_amount',\n",
    "    'category_id'\n",
    "], axis=1)\n",
    "clean_df.shape"
   ]
  },
  {
   "cell_type": "code",
   "execution_count": 90,
   "metadata": {},
   "outputs": [],
   "source": [
    "clean_df.to_csv('./datasets/clean_snacks.csv', encoding='utf-8', index=False)"
   ]
  }
 ],
 "metadata": {
  "kernelspec": {
   "display_name": "Python 3",
   "language": "python",
   "name": "python3"
  },
  "language_info": {
   "codemirror_mode": {
    "name": "ipython",
    "version": 3
   },
   "file_extension": ".py",
   "mimetype": "text/x-python",
   "name": "python",
   "nbconvert_exporter": "python",
   "pygments_lexer": "ipython3",
   "version": "3.7.3"
  }
 },
 "nbformat": 4,
 "nbformat_minor": 2
}
