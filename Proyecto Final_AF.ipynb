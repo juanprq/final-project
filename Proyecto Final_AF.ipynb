{
  "cells": [
    {
      "metadata": {},
      "cell_type": "markdown",
      "source": "# Este es el notebook del proyecto final de Andrés"
    },
    {
      "metadata": {
        "trusted": true
      },
      "cell_type": "code",
      "source": "import pandas as pd\nimport numpy as np\nfrom datetime import datetime",
      "execution_count": 2,
      "outputs": []
    },
    {
      "metadata": {
        "trusted": true
      },
      "cell_type": "code",
      "source": "#importar datasets\ndf2014=pd.read_csv('2014_.csv', sep=';',encoding='cp1252', dtype = {'Id_Cliente':str},parse_dates=[19])",
      "execution_count": 8,
      "outputs": []
    },
    {
      "metadata": {
        "trusted": true
      },
      "cell_type": "code",
      "source": "df2014.dtypes",
      "execution_count": 9,
      "outputs": [
        {
          "output_type": "execute_result",
          "execution_count": 9,
          "data": {
            "text/plain": "Region del Pais                       object\nCiudad/Depto Oficina Venta            object\nDesc_area                             object\nNombre_area                           object\nID Ciudad Bodega Despacho            float64\nCiudad Bodega Despacho                object\nId Categoría                          object\nCategoria_                            object\nId Marca                              object\nTipo Precio                           object\nLinea Prod                             int64\nCod Item                               int64\nPeso en gr                             int64\nPLANTA                                object\nId_Cliente                            object\nNombre_sabor                          object\nNombre_Cliente                        object\nNombre PdV                            object\nDistribuidor                          object\nFecha                         datetime64[ns]\nUnds                                   int64\nUnds Devolución                        int64\nMoneda                                object\nVenta Dinero                          object\nDescuento                             object\nDevolución $                          object\ndtype: object"
          },
          "metadata": {}
        }
      ]
    },
    {
      "metadata": {
        "trusted": true
      },
      "cell_type": "code",
      "source": "#convertir la columna a tipo fecha\n#analisis['Fecha ']=pd.to_datetime(analisis['Fecha '])\n#df2014['Fecha '].apply(lambda x: pd.to_datetime(x), convert_dtype=True)",
      "execution_count": null,
      "outputs": []
    },
    {
      "metadata": {
        "trusted": true
      },
      "cell_type": "code",
      "source": "#convertir la columna a tipo fecha\n#analisis['Fecha ']=pd.to_datetime(analisis['Fecha '])\n#df2014['Fecha ']=df2014['Fecha '].apply(lambda x: pd.to_datetime(x), convert_dtype=True)",
      "execution_count": 35,
      "outputs": []
    },
    {
      "metadata": {
        "trusted": true
      },
      "cell_type": "code",
      "source": "df2014.dtypes",
      "execution_count": 10,
      "outputs": [
        {
          "output_type": "execute_result",
          "execution_count": 10,
          "data": {
            "text/plain": "Region del Pais                       object\nCiudad/Depto Oficina Venta            object\nDesc_area                             object\nNombre_area                           object\nID Ciudad Bodega Despacho            float64\nCiudad Bodega Despacho                object\nId Categoría                          object\nCategoria_                            object\nId Marca                              object\nTipo Precio                           object\nLinea Prod                             int64\nCod Item                               int64\nPeso en gr                             int64\nPLANTA                                object\nId_Cliente                            object\nNombre_sabor                          object\nNombre_Cliente                        object\nNombre PdV                            object\nDistribuidor                          object\nFecha                         datetime64[ns]\nUnds                                   int64\nUnds Devolución                        int64\nMoneda                                object\nVenta Dinero                          object\nDescuento                             object\nDevolución $                          object\ndtype: object"
          },
          "metadata": {}
        }
      ]
    },
    {
      "metadata": {
        "trusted": true
      },
      "cell_type": "code",
      "source": "df2014.columns",
      "execution_count": 4,
      "outputs": [
        {
          "output_type": "execute_result",
          "execution_count": 4,
          "data": {
            "text/plain": "Index(['Region del Pais', 'Ciudad/Depto Oficina Venta', 'Desc_area',\n       'Nombre_area', 'ID Ciudad Bodega Despacho', 'Ciudad Bodega Despacho',\n       'Id Categoría', 'Categoria_', 'Id Marca', 'Tipo Precio', 'Linea Prod',\n       'Cod Item', 'Peso en gr', 'PLANTA', 'Id_Cliente', 'Nombre_sabor',\n       'Nombre_Cliente', 'Nombre PdV', 'Distribuidor', 'Fecha ', 'Unds',\n       'Unds Devolución', 'Moneda', 'Venta Dinero', 'Descuento',\n       'Devolución $'],\n      dtype='object')"
          },
          "metadata": {}
        }
      ]
    },
    {
      "metadata": {
        "trusted": true
      },
      "cell_type": "code",
      "source": "#importar datasets\ndf2015=pd.read_csv('2015_.csv', sep=';',encoding='cp1252', dtype = {'Id_Cliente':str},parse_dates=[19])",
      "execution_count": 11,
      "outputs": []
    },
    {
      "metadata": {
        "trusted": true
      },
      "cell_type": "code",
      "source": "#convertir la columna a tipo fecha\n#analisis['Fecha ']=pd.to_datetime(analisis['Fecha '])\n#df2015['Fecha ']=df2015['Fecha '].apply(lambda x: pd.to_datetime(x), convert_dtype=True)",
      "execution_count": 33,
      "outputs": []
    },
    {
      "metadata": {
        "trusted": true
      },
      "cell_type": "code",
      "source": "df2015.dtypes",
      "execution_count": 12,
      "outputs": [
        {
          "output_type": "execute_result",
          "execution_count": 12,
          "data": {
            "text/plain": "Region del Pais                       object\nCiudad/Depto Oficina Venta            object\nDesc_area                             object\nNombre_area                           object\nID Ciudad Bodega Despacho            float64\nCiudad Bodega Despacho                object\nId Categoría                          object\nCategoria_                            object\nId Marca                              object\nTipo Precio                           object\nLinea Prod                             int64\nCod Item                               int64\nPeso en gr                             int64\nPLANTA                                object\nId_Cliente                            object\nNombre_sabor                          object\nNombre_Cliente                        object\nNombre PdV                            object\nDistribuidor                          object\nFecha                         datetime64[ns]\nUnds                                   int64\nUnds Devolución                        int64\nMoneda                                object\nVenta Dinero                          object\nDescuento                             object\nDevolución $                          object\ndtype: object"
          },
          "metadata": {}
        }
      ]
    },
    {
      "metadata": {
        "trusted": true
      },
      "cell_type": "code",
      "source": "df2015.columns",
      "execution_count": 7,
      "outputs": [
        {
          "output_type": "execute_result",
          "execution_count": 7,
          "data": {
            "text/plain": "Index(['Region del Pais', 'Ciudad/Depto Oficina Venta', 'Desc_area',\n       'Nombre_area', 'ID Ciudad Bodega Despacho', 'Ciudad Bodega Despacho',\n       'Id Categoría', 'Categoria_', 'Id Marca', 'Tipo Precio', 'Linea Prod',\n       'Cod Item', 'Peso en gr', 'PLANTA', 'Id_Cliente', 'Nombre_sabor',\n       'Nombre_Cliente', 'Nombre PdV', 'Distribuidor', 'Fecha ', 'Unds',\n       'Unds Devolución', 'Moneda', 'Venta Dinero', 'Descuento',\n       'Devolución $'],\n      dtype='object')"
          },
          "metadata": {}
        }
      ]
    },
    {
      "metadata": {
        "trusted": true
      },
      "cell_type": "code",
      "source": "#importar datasets\ndf2016=pd.read_csv('2016_.csv', sep=';',encoding='cp1252', dtype = {'Id_Cliente':str},parse_dates=[19])\nprint(df2016.columns)\n",
      "execution_count": null,
      "outputs": []
    },
    {
      "metadata": {
        "trusted": true
      },
      "cell_type": "code",
      "source": "print(df2016.dtypes)",
      "execution_count": 14,
      "outputs": [
        {
          "output_type": "stream",
          "text": "Region del Pais                       object\nCiudad/Depto Oficina Venta            object\nDesc_area                             object\nNombre_area                           object\nID Ciudad Bodega Despacho            float64\nCiudad Bodega Despacho                object\nId Categoría                          object\nCategoria_                            object\nId Marca                              object\nTipo Precio                           object\nLinea Prod                             int64\nCod Item                               int64\nPeso en gr                             int64\nPLANTA                                object\nId_Cliente                            object\nNombre_sabor                          object\nNombre_Cliente                        object\nNombre PdV                            object\nDistribuidor                          object\nFecha                         datetime64[ns]\nUnds                                   int64\nUnds Devolución                        int64\nMoneda                                object\nVenta Dinero                          object\nDescuento                             object\nDevolución $                          object\ndtype: object\n",
          "name": "stdout"
        }
      ]
    },
    {
      "metadata": {
        "trusted": true
      },
      "cell_type": "code",
      "source": "#convertir la columna a tipo fecha\n#analisis['Fecha ']=pd.to_datetime(analisis['Fecha '])\n#df2016['Fecha ']=df2016['Fecha '].apply(lambda x: pd.to_datetime(x), convert_dtype=True)",
      "execution_count": 31,
      "outputs": []
    },
    {
      "metadata": {
        "trusted": true
      },
      "cell_type": "code",
      "source": "",
      "execution_count": null,
      "outputs": []
    },
    {
      "metadata": {
        "trusted": true
      },
      "cell_type": "code",
      "source": "#importar datasets\ndf2017=pd.read_csv('2017_.csv', sep=';',encoding='cp1252', dtype = {'Id_Cliente':str},parse_dates=[19])\nprint(df2017.columns)\nprint(df2017.dtypes)",
      "execution_count": 15,
      "outputs": [
        {
          "output_type": "stream",
          "text": "Index(['Region del Pais', 'Ciudad/Depto Oficina Venta', 'Desc_area',\n       'Nombre_area', 'ID Ciudad Bodega Despacho', 'Ciudad Bodega Despacho',\n       'Id Categoría', 'Categoria_', 'Id Marca', 'Tipo Precio', 'Linea Prod',\n       'Cod Item', 'Peso en gr', 'PLANTA', 'Id_Cliente', 'Nombre_sabor',\n       'Nombre_Cliente', 'Nombre PdV', 'Distribuidor', 'Fecha ', 'Unds',\n       'Unds Devolución', 'Moneda', 'Venta Dinero', 'Descuento',\n       'Devolución $'],\n      dtype='object')\nRegion del Pais                       object\nCiudad/Depto Oficina Venta            object\nDesc_area                             object\nNombre_area                           object\nID Ciudad Bodega Despacho            float64\nCiudad Bodega Despacho                object\nId Categoría                          object\nCategoria_                            object\nId Marca                              object\nTipo Precio                           object\nLinea Prod                             int64\nCod Item                               int64\nPeso en gr                             int64\nPLANTA                                object\nId_Cliente                            object\nNombre_sabor                          object\nNombre_Cliente                        object\nNombre PdV                            object\nDistribuidor                          object\nFecha                         datetime64[ns]\nUnds                                   int64\nUnds Devolución                        int64\nMoneda                                object\nVenta Dinero                          object\nDescuento                             object\nDevolución $                          object\ndtype: object\n",
          "name": "stdout"
        }
      ]
    },
    {
      "metadata": {
        "trusted": true
      },
      "cell_type": "code",
      "source": "#convertir la columna a tipo fecha\n#analisis['Fecha ']=pd.to_datetime(analisis['Fecha '])\n#df2017['Fecha ']=df2017['Fecha '].apply(lambda x: pd.to_datetime(x), convert_dtype=True)",
      "execution_count": 29,
      "outputs": []
    },
    {
      "metadata": {
        "trusted": true
      },
      "cell_type": "code",
      "source": "",
      "execution_count": 30,
      "outputs": [
        {
          "output_type": "execute_result",
          "execution_count": 30,
          "data": {
            "text/plain": "Region del Pais                       object\nCiudad/Depto Oficina Venta            object\nDesc_area                             object\nNombre_area                           object\nID Ciudad Bodega Despacho            float64\nCiudad Bodega Despacho                object\nId Categoría                          object\nCategoria_                            object\nId Marca                              object\nTipo Precio                           object\nLinea Prod                             int64\nCod Item                               int64\nPeso en gr                             int64\nPLANTA                                object\nId_Cliente                            object\nNombre_sabor                          object\nNombre_Cliente                        object\nNombre PdV                            object\nDistribuidor                          object\nFecha                         datetime64[ns]\nUnds                                   int64\nUnds Devolución                        int64\nMoneda                                object\nVenta Dinero                          object\nDescuento                             object\nDevolución $                          object\ndtype: object"
          },
          "metadata": {}
        }
      ]
    },
    {
      "metadata": {
        "trusted": true
      },
      "cell_type": "code",
      "source": "#importar datasets\ndf2018=pd.read_csv('2018_.csv', sep=';',encoding='cp1252', dtype = {'Id_Cliente':str},parse_dates=[19])\nprint(df2018.columns)\nprint(df2018.dtypes)",
      "execution_count": 16,
      "outputs": [
        {
          "output_type": "stream",
          "text": "Index(['Region del Pais', 'Ciudad/Depto Oficina Venta', 'Desc_area',\n       'Nombre_area', 'ID Ciudad Bodega Despacho', 'Ciudad Bodega Despacho',\n       'Id Categoría', 'Categoria_', 'Id Marca', 'Tipo Precio', 'Linea Prod',\n       'Cod Item', 'Peso en gr', 'PLANTA', 'Id_Cliente', 'Nombre_sabor',\n       'Nombre_Cliente', 'Nombre PdV', 'Distribuidor', 'Fecha ', 'Unds',\n       'Unds Devolución', 'Moneda', 'Venta Dinero', 'Descuento',\n       'Devolución $'],\n      dtype='object')\nRegion del Pais                       object\nCiudad/Depto Oficina Venta            object\nDesc_area                             object\nNombre_area                           object\nID Ciudad Bodega Despacho            float64\nCiudad Bodega Despacho                object\nId Categoría                          object\nCategoria_                            object\nId Marca                              object\nTipo Precio                           object\nLinea Prod                             int64\nCod Item                               int64\nPeso en gr                             int64\nPLANTA                                object\nId_Cliente                            object\nNombre_sabor                          object\nNombre_Cliente                        object\nNombre PdV                            object\nDistribuidor                          object\nFecha                         datetime64[ns]\nUnds                                   int64\nUnds Devolución                        int64\nMoneda                                object\nVenta Dinero                          object\nDescuento                             object\nDevolución $                          object\ndtype: object\n",
          "name": "stdout"
        }
      ]
    },
    {
      "metadata": {
        "trusted": true
      },
      "cell_type": "code",
      "source": "#convertir la columna a tipo fecha\n#analisis['Fecha ']=pd.to_datetime(analisis['Fecha '])\n#df2018['Fecha ']=df2018['Fecha '].apply(lambda x: pd.to_datetime(x), convert_dtype=True)",
      "execution_count": 27,
      "outputs": []
    },
    {
      "metadata": {
        "trusted": true
      },
      "cell_type": "code",
      "source": "df2018.dtypes",
      "execution_count": 28,
      "outputs": [
        {
          "output_type": "execute_result",
          "execution_count": 28,
          "data": {
            "text/plain": "Region del Pais                       object\nCiudad/Depto Oficina Venta            object\nDesc_area                             object\nNombre_area                           object\nID Ciudad Bodega Despacho            float64\nCiudad Bodega Despacho                object\nId Categoría                          object\nCategoria_                            object\nId Marca                              object\nTipo Precio                           object\nLinea Prod                             int64\nCod Item                               int64\nPeso en gr                             int64\nPLANTA                                object\nId_Cliente                            object\nNombre_sabor                          object\nNombre_Cliente                        object\nNombre PdV                            object\nDistribuidor                          object\nFecha                         datetime64[ns]\nUnds                                   int64\nUnds Devolución                        int64\nMoneda                                object\nVenta Dinero                          object\nDescuento                             object\nDevolución $                          object\ndtype: object"
          },
          "metadata": {}
        }
      ]
    },
    {
      "metadata": {
        "trusted": true
      },
      "cell_type": "code",
      "source": "archivos=['2014_','2015_','2016_','2017_','2018_']\nlistado_archivos=[]\n\n\nfor i in archivos:\n    temporal=pd.read_csv(i+'.csv', sep=';',encoding='cp1252', dtype = {'Id_Cliente':str},parse_dates=[19])\n    listado_archivos.append(temporal)\n\nconsolidado=pd.concat(listado_archivos,axis=0)\n",
      "execution_count": 17,
      "outputs": []
    },
    {
      "metadata": {
        "trusted": true
      },
      "cell_type": "code",
      "source": "consolidado.head()",
      "execution_count": 34,
      "outputs": [
        {
          "output_type": "execute_result",
          "execution_count": 34,
          "data": {
            "text/plain": "  Region del Pais Ciudad/Depto Oficina Venta Desc_area  \\\n0          Centro                     Ibague  IBAGUE 1   \n1             Sur                       Cali     TULUA   \n2             Sur                     Nariño   POPAYAN   \n3             Sur                     Nariño   POPAYAN   \n4           Norte                Bucaramanga   FLORIDA   \n\n              Nombre_area  ID Ciudad Bodega Despacho Ciudad Bodega Despacho  \\\n0                  SALADO                    85228.0                 IBAGUE   \n1             EL PRINCIPE                    85205.0                  TULUA   \n2  MOTO CONQUISTA POPAYAN                    85220.0                POPAYAN   \n3  MOTO CONQUISTA POPAYAN                    85220.0                POPAYAN   \n4                  REPOSO                    85230.0            BUCARAMANGA   \n\n  Id Categoría             Categoria_ Id Marca Tipo Precio     ...       \\\n0         CAT1  Producto de Extrusion      M01     REGULAR     ...        \n1         CAT1  Producto de Extrusion      M01    OFERTADO     ...        \n2         CAT1  Producto de Extrusion      M01    OFERTADO     ...        \n3         CAT1  Producto de Extrusion      M01     REGULAR     ...        \n4         CAT1  Producto de Extrusion      M01    OFERTADO     ...        \n\n   Nombre_Cliente  Nombre PdV  Distribuidor     Fecha    Unds Unds Devolución  \\\n0             NaN         NaN       Tiendas 2014-01-04  39600               0   \n1             NaN         NaN       Tiendas 2014-01-04    324               0   \n2             NaN         NaN       Tiendas 2014-01-04     36               0   \n3             NaN         NaN       Tiendas 2014-01-04  73200               0   \n4             NaN         NaN       Tiendas 2014-01-04   3924               0   \n\n  Moneda  Venta Dinero    Descuento Devolución $  \n0    COP    493,529.00   -93,769.56            0  \n1    COP    181,530.00   -32,675.40            0  \n2    COP     20,170.00    -4,437.40            0  \n3    COP     91,227.00   -20,069.98            0  \n4    COP  2,198,533.00  -395,736.97            0  \n\n[5 rows x 26 columns]",
            "text/html": "<div>\n<table border=\"1\" class=\"dataframe\">\n  <thead>\n    <tr style=\"text-align: right;\">\n      <th></th>\n      <th>Region del Pais</th>\n      <th>Ciudad/Depto Oficina Venta</th>\n      <th>Desc_area</th>\n      <th>Nombre_area</th>\n      <th>ID Ciudad Bodega Despacho</th>\n      <th>Ciudad Bodega Despacho</th>\n      <th>Id Categoría</th>\n      <th>Categoria_</th>\n      <th>Id Marca</th>\n      <th>Tipo Precio</th>\n      <th>...</th>\n      <th>Nombre_Cliente</th>\n      <th>Nombre PdV</th>\n      <th>Distribuidor</th>\n      <th>Fecha</th>\n      <th>Unds</th>\n      <th>Unds Devolución</th>\n      <th>Moneda</th>\n      <th>Venta Dinero</th>\n      <th>Descuento</th>\n      <th>Devolución $</th>\n    </tr>\n  </thead>\n  <tbody>\n    <tr>\n      <th>0</th>\n      <td>Centro</td>\n      <td>Ibague</td>\n      <td>IBAGUE 1</td>\n      <td>SALADO</td>\n      <td>85228.0</td>\n      <td>IBAGUE</td>\n      <td>CAT1</td>\n      <td>Producto de Extrusion</td>\n      <td>M01</td>\n      <td>REGULAR</td>\n      <td>...</td>\n      <td>NaN</td>\n      <td>NaN</td>\n      <td>Tiendas</td>\n      <td>2014-01-04</td>\n      <td>39600</td>\n      <td>0</td>\n      <td>COP</td>\n      <td>493,529.00</td>\n      <td>-93,769.56</td>\n      <td>0</td>\n    </tr>\n    <tr>\n      <th>1</th>\n      <td>Sur</td>\n      <td>Cali</td>\n      <td>TULUA</td>\n      <td>EL PRINCIPE</td>\n      <td>85205.0</td>\n      <td>TULUA</td>\n      <td>CAT1</td>\n      <td>Producto de Extrusion</td>\n      <td>M01</td>\n      <td>OFERTADO</td>\n      <td>...</td>\n      <td>NaN</td>\n      <td>NaN</td>\n      <td>Tiendas</td>\n      <td>2014-01-04</td>\n      <td>324</td>\n      <td>0</td>\n      <td>COP</td>\n      <td>181,530.00</td>\n      <td>-32,675.40</td>\n      <td>0</td>\n    </tr>\n    <tr>\n      <th>2</th>\n      <td>Sur</td>\n      <td>Nariño</td>\n      <td>POPAYAN</td>\n      <td>MOTO CONQUISTA POPAYAN</td>\n      <td>85220.0</td>\n      <td>POPAYAN</td>\n      <td>CAT1</td>\n      <td>Producto de Extrusion</td>\n      <td>M01</td>\n      <td>OFERTADO</td>\n      <td>...</td>\n      <td>NaN</td>\n      <td>NaN</td>\n      <td>Tiendas</td>\n      <td>2014-01-04</td>\n      <td>36</td>\n      <td>0</td>\n      <td>COP</td>\n      <td>20,170.00</td>\n      <td>-4,437.40</td>\n      <td>0</td>\n    </tr>\n    <tr>\n      <th>3</th>\n      <td>Sur</td>\n      <td>Nariño</td>\n      <td>POPAYAN</td>\n      <td>MOTO CONQUISTA POPAYAN</td>\n      <td>85220.0</td>\n      <td>POPAYAN</td>\n      <td>CAT1</td>\n      <td>Producto de Extrusion</td>\n      <td>M01</td>\n      <td>REGULAR</td>\n      <td>...</td>\n      <td>NaN</td>\n      <td>NaN</td>\n      <td>Tiendas</td>\n      <td>2014-01-04</td>\n      <td>73200</td>\n      <td>0</td>\n      <td>COP</td>\n      <td>91,227.00</td>\n      <td>-20,069.98</td>\n      <td>0</td>\n    </tr>\n    <tr>\n      <th>4</th>\n      <td>Norte</td>\n      <td>Bucaramanga</td>\n      <td>FLORIDA</td>\n      <td>REPOSO</td>\n      <td>85230.0</td>\n      <td>BUCARAMANGA</td>\n      <td>CAT1</td>\n      <td>Producto de Extrusion</td>\n      <td>M01</td>\n      <td>OFERTADO</td>\n      <td>...</td>\n      <td>NaN</td>\n      <td>NaN</td>\n      <td>Tiendas</td>\n      <td>2014-01-04</td>\n      <td>3924</td>\n      <td>0</td>\n      <td>COP</td>\n      <td>2,198,533.00</td>\n      <td>-395,736.97</td>\n      <td>0</td>\n    </tr>\n  </tbody>\n</table>\n<p>5 rows × 26 columns</p>\n</div>"
          },
          "metadata": {}
        }
      ]
    },
    {
      "metadata": {
        "trusted": true
      },
      "cell_type": "code",
      "source": "consolidado['Fecha '].unique()",
      "execution_count": 19,
      "outputs": [
        {
          "output_type": "execute_result",
          "execution_count": 19,
          "data": {
            "text/plain": "array(['2014-01-04T00:00:00.000000000', '2014-01-05T00:00:00.000000000',\n       '2014-01-06T00:00:00.000000000', '2014-01-07T00:00:00.000000000',\n       '2014-01-08T00:00:00.000000000', '2014-01-09T00:00:00.000000000',\n       '2014-01-10T00:00:00.000000000', '2014-01-11T00:00:00.000000000',\n       '2014-01-12T00:00:00.000000000', '2015-01-04T00:00:00.000000000',\n       '2015-01-05T00:00:00.000000000', '2015-01-02T00:00:00.000000000',\n       '2015-01-01T00:00:00.000000000', '2015-01-03T00:00:00.000000000',\n       '2015-01-06T00:00:00.000000000', '2015-01-07T00:00:00.000000000',\n       '2015-01-08T00:00:00.000000000', '2015-01-09T00:00:00.000000000',\n       '2015-01-10T00:00:00.000000000', '2015-01-11T00:00:00.000000000',\n       '2015-01-12T00:00:00.000000000', '2016-01-04T00:00:00.000000000',\n       '2016-01-05T00:00:00.000000000', '2016-01-02T00:00:00.000000000',\n       '2016-01-01T00:00:00.000000000', '2016-01-03T00:00:00.000000000',\n       '2016-01-06T00:00:00.000000000', '2016-01-07T00:00:00.000000000',\n       '2016-01-08T00:00:00.000000000', '2016-01-09T00:00:00.000000000',\n       '2016-01-10T00:00:00.000000000', '2016-01-11T00:00:00.000000000',\n       '2016-01-12T00:00:00.000000000', '2017-01-04T00:00:00.000000000',\n       '2017-01-05T00:00:00.000000000', '2017-01-02T00:00:00.000000000',\n       '2017-01-01T00:00:00.000000000', '2017-01-03T00:00:00.000000000',\n       '2017-01-06T00:00:00.000000000', '2017-01-07T00:00:00.000000000',\n       '2017-01-08T00:00:00.000000000', '2017-01-09T00:00:00.000000000',\n       '2017-01-10T00:00:00.000000000', '2017-01-11T00:00:00.000000000',\n       '2017-01-12T00:00:00.000000000', '2018-01-04T00:00:00.000000000',\n       '2018-01-02T00:00:00.000000000', '2018-01-01T00:00:00.000000000',\n       '2018-01-03T00:00:00.000000000'], dtype='datetime64[ns]')"
          },
          "metadata": {}
        }
      ]
    },
    {
      "metadata": {
        "trusted": true
      },
      "cell_type": "code",
      "source": "consolidado['Unds'].describe()",
      "execution_count": 29,
      "outputs": [
        {
          "output_type": "execute_result",
          "execution_count": 29,
          "data": {
            "text/plain": "count    3.201181e+06\nmean     8.693070e+03\nstd      9.670232e+04\nmin      0.000000e+00\n25%      8.500000e+01\n50%      3.960000e+02\n75%      1.728000e+03\nmax      3.652440e+07\nName: Unds, dtype: float64"
          },
          "metadata": {}
        }
      ]
    },
    {
      "metadata": {
        "trusted": true
      },
      "cell_type": "code",
      "source": "consolidado['Año']=consolidado['Fecha '].astype(str).str[4]",
      "execution_count": null,
      "outputs": []
    },
    {
      "metadata": {
        "trusted": true
      },
      "cell_type": "code",
      "source": "consolidado.head()",
      "execution_count": 1,
      "outputs": [
        {
          "output_type": "error",
          "ename": "NameError",
          "evalue": "name 'consolidado' is not defined",
          "traceback": [
            "\u001b[0;31m---------------------------------------------------------------------------\u001b[0m",
            "\u001b[0;31mNameError\u001b[0m                                 Traceback (most recent call last)",
            "\u001b[0;32m<ipython-input-1-ff4c65fa1ac1>\u001b[0m in \u001b[0;36m<module>\u001b[0;34m()\u001b[0m\n\u001b[0;32m----> 1\u001b[0;31m \u001b[0mconsolidado\u001b[0m\u001b[0;34m.\u001b[0m\u001b[0mhead\u001b[0m\u001b[0;34m(\u001b[0m\u001b[0;34m)\u001b[0m\u001b[0;34m\u001b[0m\u001b[0m\n\u001b[0m",
            "\u001b[0;31mNameError\u001b[0m: name 'consolidado' is not defined"
          ]
        }
      ]
    },
    {
      "metadata": {
        "trusted": true
      },
      "cell_type": "code",
      "source": "#from pandas import DataFrame\n\n#export_csv = consolidado.to_csv ('datosconsolidados.csv', index = None, header=True) \n\n",
      "execution_count": null,
      "outputs": []
    },
    {
      "metadata": {
        "trusted": true
      },
      "cell_type": "code",
      "source": "#analisis=consolidado.copy()",
      "execution_count": 15,
      "outputs": []
    },
    {
      "metadata": {
        "trusted": true
      },
      "cell_type": "code",
      "source": "analisis.dtypes",
      "execution_count": 17,
      "outputs": [
        {
          "output_type": "execute_result",
          "execution_count": 17,
          "data": {
            "text/plain": "Region del Pais                object\nCiudad/Depto Oficina Venta     object\nDesc_area                      object\nNombre_area                    object\nID Ciudad Bodega Despacho     float64\nCiudad Bodega Despacho         object\nId Categoría                   object\nCategoria_                     object\nId Marca                       object\nTipo Precio                    object\nLinea Prod                      int64\nCod Item                        int64\nPeso en gr                      int64\nPLANTA                         object\nId_Cliente                     object\nNombre_sabor                   object\nNombre_Cliente                 object\nNombre PdV                     object\nDistribuidor                   object\nFecha                          object\nUnds                            int64\nUnds Devolución                 int64\nMoneda                         object\nVenta Dinero                   object\nDescuento                      object\nDevolución $                   object\ndtype: object"
          },
          "metadata": {}
        }
      ]
    },
    {
      "metadata": {
        "trusted": true
      },
      "cell_type": "code",
      "source": "",
      "execution_count": null,
      "outputs": []
    },
    {
      "metadata": {
        "trusted": true
      },
      "cell_type": "code",
      "source": "",
      "execution_count": null,
      "outputs": []
    }
  ],
  "metadata": {
    "kernelspec": {
      "name": "python3",
      "display_name": "Python 3",
      "language": "python"
    },
    "language_info": {
      "mimetype": "text/x-python",
      "nbconvert_exporter": "python",
      "name": "python",
      "file_extension": ".py",
      "version": "3.5.4",
      "pygments_lexer": "ipython3",
      "codemirror_mode": {
        "version": 3,
        "name": "ipython"
      }
    }
  },
  "nbformat": 4,
  "nbformat_minor": 1
}